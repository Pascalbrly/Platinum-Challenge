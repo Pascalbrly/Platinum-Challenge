{
 "cells": [
  {
   "cell_type": "code",
   "execution_count": 3,
   "metadata": {},
   "outputs": [
    {
     "name": "stderr",
     "output_type": "stream",
     "text": [
      "[nltk_data] Downloading package stopwords to\n",
      "[nltk_data]     C:\\Users\\Admin\\AppData\\Roaming\\nltk_data...\n",
      "[nltk_data]   Package stopwords is already up-to-date!\n",
      "[nltk_data] Downloading package punkt to\n",
      "[nltk_data]     C:\\Users\\Admin\\AppData\\Roaming\\nltk_data...\n",
      "[nltk_data]   Package punkt is already up-to-date!\n"
     ]
    }
   ],
   "source": [
    "import pandas as pd\n",
    "import re\n",
    "import nltk\n",
    "import string\n",
    "import pickle\n",
    "import numpy as np\n",
    "import tensorflow as tf\n",
    "import matplotlib.pyplot as plt\n",
    "\n",
    "from nltk.tokenize import word_tokenize\n",
    "from nltk.corpus import stopwords\n",
    "nltk.download('stopwords')\n",
    "nltk.download('punkt')\n",
    "from Sastrawi.StopWordRemover.StopWordRemoverFactory import StopWordRemoverFactory\n",
    "from Sastrawi.Stemmer.StemmerFactory import StemmerFactory\n",
    "from num2words import num2words\n",
    "\n",
    "from tensorflow.keras.preprocessing.sequence import pad_sequences\n",
    "from tensorflow.keras.layers import Embedding, LSTM, Dense, Dropout, Bidirectional\n",
    "from tensorflow.keras.preprocessing.text import Tokenizer\n",
    "from collections import defaultdict\n",
    "from sklearn.metrics import accuracy_score\n",
    "from tensorflow.keras.utils import to_categorical"
   ]
  },
  {
   "cell_type": "code",
   "execution_count": 2,
   "metadata": {},
   "outputs": [
    {
     "data": {
      "text/html": [
       "<div>\n",
       "<style scoped>\n",
       "    .dataframe tbody tr th:only-of-type {\n",
       "        vertical-align: middle;\n",
       "    }\n",
       "\n",
       "    .dataframe tbody tr th {\n",
       "        vertical-align: top;\n",
       "    }\n",
       "\n",
       "    .dataframe thead th {\n",
       "        text-align: right;\n",
       "    }\n",
       "</style>\n",
       "<table border=\"1\" class=\"dataframe\">\n",
       "  <thead>\n",
       "    <tr style=\"text-align: right;\">\n",
       "      <th></th>\n",
       "      <th>Text</th>\n",
       "      <th>Sentiment</th>\n",
       "    </tr>\n",
       "  </thead>\n",
       "  <tbody>\n",
       "    <tr>\n",
       "      <th>0</th>\n",
       "      <td>warung ini dimiliki oleh pengusaha pabrik tahu...</td>\n",
       "      <td>positive</td>\n",
       "    </tr>\n",
       "    <tr>\n",
       "      <th>1</th>\n",
       "      <td>mohon ulama lurus dan k212 mmbri hujjah partai...</td>\n",
       "      <td>neutral</td>\n",
       "    </tr>\n",
       "    <tr>\n",
       "      <th>2</th>\n",
       "      <td>lokasi strategis di jalan sumatera bandung . t...</td>\n",
       "      <td>positive</td>\n",
       "    </tr>\n",
       "    <tr>\n",
       "      <th>3</th>\n",
       "      <td>betapa bahagia nya diri ini saat unboxing pake...</td>\n",
       "      <td>positive</td>\n",
       "    </tr>\n",
       "    <tr>\n",
       "      <th>4</th>\n",
       "      <td>duh . jadi mahasiswa jangan sombong dong . kas...</td>\n",
       "      <td>negative</td>\n",
       "    </tr>\n",
       "    <tr>\n",
       "      <th>...</th>\n",
       "      <td>...</td>\n",
       "      <td>...</td>\n",
       "    </tr>\n",
       "    <tr>\n",
       "      <th>10993</th>\n",
       "      <td>f - demokrat dorong upaya kemandirian energi n...</td>\n",
       "      <td>neutral</td>\n",
       "    </tr>\n",
       "    <tr>\n",
       "      <th>10994</th>\n",
       "      <td>tidak bosan</td>\n",
       "      <td>positive</td>\n",
       "    </tr>\n",
       "    <tr>\n",
       "      <th>10996</th>\n",
       "      <td>enak rasa masakan nya apalagi kepiting yang me...</td>\n",
       "      <td>positive</td>\n",
       "    </tr>\n",
       "    <tr>\n",
       "      <th>10998</th>\n",
       "      <td>pagi pagi di tol pasteur sudah macet parah , b...</td>\n",
       "      <td>negative</td>\n",
       "    </tr>\n",
       "    <tr>\n",
       "      <th>10999</th>\n",
       "      <td>meskipun sering belanja ke yogya di riau junct...</td>\n",
       "      <td>positive</td>\n",
       "    </tr>\n",
       "  </tbody>\n",
       "</table>\n",
       "<p>10933 rows × 2 columns</p>\n",
       "</div>"
      ],
      "text/plain": [
       "                                                    Text Sentiment\n",
       "0      warung ini dimiliki oleh pengusaha pabrik tahu...  positive\n",
       "1      mohon ulama lurus dan k212 mmbri hujjah partai...   neutral\n",
       "2      lokasi strategis di jalan sumatera bandung . t...  positive\n",
       "3      betapa bahagia nya diri ini saat unboxing pake...  positive\n",
       "4      duh . jadi mahasiswa jangan sombong dong . kas...  negative\n",
       "...                                                  ...       ...\n",
       "10993  f - demokrat dorong upaya kemandirian energi n...   neutral\n",
       "10994                                        tidak bosan  positive\n",
       "10996  enak rasa masakan nya apalagi kepiting yang me...  positive\n",
       "10998  pagi pagi di tol pasteur sudah macet parah , b...  negative\n",
       "10999  meskipun sering belanja ke yogya di riau junct...  positive\n",
       "\n",
       "[10933 rows x 2 columns]"
      ]
     },
     "execution_count": 2,
     "metadata": {},
     "output_type": "execute_result"
    }
   ],
   "source": [
    "data_df = pd.read_csv('train_preprocess.tsv.txt', names = ['Text','Sentiment'], sep = '\\t')\n",
    "data_df.drop_duplicates()"
   ]
  },
  {
   "cell_type": "code",
   "execution_count": 4,
   "metadata": {},
   "outputs": [],
   "source": [
    "alay_df = pd.read_csv('new_kamusalay.csv', encoding='latin-1', header=None)\n",
    "alay_filter = dict(zip(alay_df[0], alay_df[1]))"
   ]
  },
  {
   "cell_type": "code",
   "execution_count": null,
   "metadata": {},
   "outputs": [],
   "source": [
    "# def clean_text(text):\n",
    "#     text = text.lower()\n",
    "#     text = re.sub(r'\\\\t|\\\\n|\\\\u', ' ', text) #Menghapus karakter khusus seperti tab, baris baru, karakter Unicode, dan backslash.\n",
    "#     text = re.sub(r\"https?:[^\\s]+\", ' ', text)  # Menghapus http / https\n",
    "#     text = re.sub(r\"[^\\w\\s+]\", '', text)  # Menghapus karakter kecuali huruf, angka, dan spasi\n",
    "#     text = re.sub(r'rt|user', ' ', text)  # Menghapus kata-kata 'rt' dan 'user'\n",
    "#     text = re.sub(r'[\\\\x]+[a-z0-9]{2}', '', text)  # Menghapus karakter yang dimulai dengan '\\x' diikuti oleh dua karakter huruf atau angka\n",
    "#     text = re.sub(r'[^\\x00-\\x7F]+', '', text)  # Remove non-ASCII characters\n",
    "#     text = text.replace('_', ' ')  # Menghapus underscore\n",
    "#     text = re.sub(r'(\\d+)', r' \\1 ', text)  # Memisahkan angka dari teks\n",
    "#     text = re.sub(r'\\s+', ' ', text).strip()  # Menggabungkan spasi berturut-turut menjadi satu spasi\n",
    "#     text = re.sub(r'(\\d+)', lambda x: num2words(int(x.group(0)), lang='id'), text)  # Mengonversi angka menjadi kata\n",
    "#     return text\n",
    "\n",
    "# def normalisasi_alay(text):\n",
    "#     return ' '.join(alay_filter.get(word, word) for word in text.split(' '))\n",
    "\n",
    "# # Fungsi untuk menghilangkan stopwords\n",
    "# def remove_stopwords(text):\n",
    "#     return ' '.join(word for word in text.split() if word not in stop_words)\n",
    "\n",
    "# # Fungsi untuk stemming\n",
    "# def stem_text(text):\n",
    "#     return stemmer.stem(text)\n",
    "\n",
    "# # Fungsi untuk menggabungkan pembersihan, normalisasi, penghilangan stopwords, dan stemming\n",
    "# def cleaning_text(text):\n",
    "#     text = clean_text(text)\n",
    "#     text = normalisasi_alay(text)\n",
    "#     text = remove_stopwords(text)\n",
    "#     text = stem_text(text)\n",
    "#     return text\n",
    "\n",
    "# # Terapkan fungsi pada kolom 'Text'\n",
    "# data_df['Text_Cleansing'] = data_df['Text'].apply(cleaning_text)\n",
    "\n",
    "# # Pilih kolom yang diinginkan\n",
    "# data_df = data_df[['Text', 'Text_Cleansing', 'Sentiment']]\n",
    "# data_df"
   ]
  },
  {
   "cell_type": "markdown",
   "metadata": {},
   "source": [
    "# Text_Cleansing"
   ]
  },
  {
   "cell_type": "code",
   "execution_count": 5,
   "metadata": {},
   "outputs": [
    {
     "data": {
      "text/html": [
       "<div>\n",
       "<style scoped>\n",
       "    .dataframe tbody tr th:only-of-type {\n",
       "        vertical-align: middle;\n",
       "    }\n",
       "\n",
       "    .dataframe tbody tr th {\n",
       "        vertical-align: top;\n",
       "    }\n",
       "\n",
       "    .dataframe thead th {\n",
       "        text-align: right;\n",
       "    }\n",
       "</style>\n",
       "<table border=\"1\" class=\"dataframe\">\n",
       "  <thead>\n",
       "    <tr style=\"text-align: right;\">\n",
       "      <th></th>\n",
       "      <th>Text</th>\n",
       "      <th>Text_Cleansing</th>\n",
       "      <th>Sentiment</th>\n",
       "    </tr>\n",
       "  </thead>\n",
       "  <tbody>\n",
       "    <tr>\n",
       "      <th>0</th>\n",
       "      <td>warung ini dimiliki oleh pengusaha pabrik tahu...</td>\n",
       "      <td>warung ini dimiliki oleh pengusaha pabrik tahu...</td>\n",
       "      <td>positive</td>\n",
       "    </tr>\n",
       "    <tr>\n",
       "      <th>1</th>\n",
       "      <td>mohon ulama lurus dan k212 mmbri hujjah partai...</td>\n",
       "      <td>mohon ulama lurus dan k mmbri hujjah partai ap...</td>\n",
       "      <td>neutral</td>\n",
       "    </tr>\n",
       "    <tr>\n",
       "      <th>2</th>\n",
       "      <td>lokasi strategis di jalan sumatera bandung . t...</td>\n",
       "      <td>lokasi strategis di jalan sumatra bandung temp...</td>\n",
       "      <td>positive</td>\n",
       "    </tr>\n",
       "    <tr>\n",
       "      <th>3</th>\n",
       "      <td>betapa bahagia nya diri ini saat unboxing pake...</td>\n",
       "      <td>betapa bahagia nya diri ini saat unbog paket d...</td>\n",
       "      <td>positive</td>\n",
       "    </tr>\n",
       "    <tr>\n",
       "      <th>4</th>\n",
       "      <td>duh . jadi mahasiswa jangan sombong dong . kas...</td>\n",
       "      <td>aduh jadi mahasiswa jangan sombong dong kasih ...</td>\n",
       "      <td>negative</td>\n",
       "    </tr>\n",
       "    <tr>\n",
       "      <th>...</th>\n",
       "      <td>...</td>\n",
       "      <td>...</td>\n",
       "      <td>...</td>\n",
       "    </tr>\n",
       "    <tr>\n",
       "      <th>10995</th>\n",
       "      <td>tidak kecewa</td>\n",
       "      <td>tidak kecewa</td>\n",
       "      <td>positive</td>\n",
       "    </tr>\n",
       "    <tr>\n",
       "      <th>10996</th>\n",
       "      <td>enak rasa masakan nya apalagi kepiting yang me...</td>\n",
       "      <td>enak rasa masakan nya apalagi kepiting yang me...</td>\n",
       "      <td>positive</td>\n",
       "    </tr>\n",
       "    <tr>\n",
       "      <th>10997</th>\n",
       "      <td>hormati partai-partai yang telah berkoalisi</td>\n",
       "      <td>hormati partai yang telah berkoalisi</td>\n",
       "      <td>neutral</td>\n",
       "    </tr>\n",
       "    <tr>\n",
       "      <th>10998</th>\n",
       "      <td>pagi pagi di tol pasteur sudah macet parah , b...</td>\n",
       "      <td>pagi pagi di tol pasteur sudah macet parah bik...</td>\n",
       "      <td>negative</td>\n",
       "    </tr>\n",
       "    <tr>\n",
       "      <th>10999</th>\n",
       "      <td>meskipun sering belanja ke yogya di riau junct...</td>\n",
       "      <td>meskipun sering belanja ke yogyakarta di riau ...</td>\n",
       "      <td>positive</td>\n",
       "    </tr>\n",
       "  </tbody>\n",
       "</table>\n",
       "<p>11000 rows × 3 columns</p>\n",
       "</div>"
      ],
      "text/plain": [
       "                                                    Text  \\\n",
       "0      warung ini dimiliki oleh pengusaha pabrik tahu...   \n",
       "1      mohon ulama lurus dan k212 mmbri hujjah partai...   \n",
       "2      lokasi strategis di jalan sumatera bandung . t...   \n",
       "3      betapa bahagia nya diri ini saat unboxing pake...   \n",
       "4      duh . jadi mahasiswa jangan sombong dong . kas...   \n",
       "...                                                  ...   \n",
       "10995                                       tidak kecewa   \n",
       "10996  enak rasa masakan nya apalagi kepiting yang me...   \n",
       "10997        hormati partai-partai yang telah berkoalisi   \n",
       "10998  pagi pagi di tol pasteur sudah macet parah , b...   \n",
       "10999  meskipun sering belanja ke yogya di riau junct...   \n",
       "\n",
       "                                          Text_Cleansing Sentiment  \n",
       "0      warung ini dimiliki oleh pengusaha pabrik tahu...  positive  \n",
       "1      mohon ulama lurus dan k mmbri hujjah partai ap...   neutral  \n",
       "2      lokasi strategis di jalan sumatra bandung temp...  positive  \n",
       "3      betapa bahagia nya diri ini saat unbog paket d...  positive  \n",
       "4      aduh jadi mahasiswa jangan sombong dong kasih ...  negative  \n",
       "...                                                  ...       ...  \n",
       "10995                                       tidak kecewa  positive  \n",
       "10996  enak rasa masakan nya apalagi kepiting yang me...  positive  \n",
       "10997               hormati partai yang telah berkoalisi   neutral  \n",
       "10998  pagi pagi di tol pasteur sudah macet parah bik...  negative  \n",
       "10999  meskipun sering belanja ke yogyakarta di riau ...  positive  \n",
       "\n",
       "[11000 rows x 3 columns]"
      ]
     },
     "execution_count": 5,
     "metadata": {},
     "output_type": "execute_result"
    }
   ],
   "source": [
    "def clean_text(text):\n",
    "    text = re.sub(r'\\\\t|\\\\n|\\\\u', ' ', text) #Menghapus karakter khusus seperti tab, baris baru, karakter Unicode, dan backslash.\n",
    "    text = re.sub(r\"https?:[^\\s]+\", ' ', text)  # Menghapus http / https\n",
    "    text = re.sub(r'(\\b\\w+)-\\1\\b', r'\\1', text)\n",
    "    text = re.sub(r'[\\\\x]+[a-z0-9]{2}', '', text)  # Menghapus karakter yang dimulai dengan '\\x' diikuti oleh dua karakter huruf atau angka\n",
    "    # text = re.sub(r'(\\d+)', r' \\1 ', text)  # Memisahkan angka dari teks\n",
    "    text = re.sub(r'[^a-zA-Z]+', ' ', text)  # Menghapus karakter kecuali huruf, dan spasi\n",
    "    text = re.sub(r'\\brt\\b|\\buser\\b', ' ', text) # Menghapus kata-kata 'rt' dan 'user'\n",
    "    text = text.lower()\n",
    "    return text\n",
    "\n",
    "def normalisasi_alay(text):\n",
    "    return ' '.join(alay_filter.get(word, word) for word in text.split(' '))\n",
    "\n",
    "def cleaning_text(text):\n",
    "    text = clean_text(text)\n",
    "    text = normalisasi_alay(text)\n",
    "    return text\n",
    "\n",
    "data_df['Text_Cleansing'] = data_df['Text'].apply(cleaning_text)\n",
    "\n",
    "# Pilih kolom yang diinginkan\n",
    "data_df = data_df[['Text', 'Text_Cleansing', 'Sentiment']]\n",
    "data_df"
   ]
  },
  {
   "cell_type": "markdown",
   "metadata": {},
   "source": [
    "# Text_Preprocessing"
   ]
  },
  {
   "cell_type": "code",
   "execution_count": 6,
   "metadata": {},
   "outputs": [],
   "source": [
    "factory = StemmerFactory()\n",
    "stemer = factory.create_stemmer()\n",
    "\n",
    "list_stopwords = set(stopwords.words('indonesian'))\n",
    "\n",
    "# Tokenizing\n",
    "def tokenize(text):\n",
    "    return word_tokenize(text)\n",
    "\n",
    "# Removing stopwords\n",
    "def remove_stopwords(text):\n",
    "    return [word for word in text if not word in list_stopwords]\n",
    "\n",
    "# Stemming\n",
    "def stemming(text):\n",
    "    return [stemer.stem(word) for word in text]\n",
    "\n",
    "# Convert list of words to a sentence\n",
    "def words_to_sentence(list_words):\n",
    "    return ' '.join(list_words)\n",
    "\n",
    "def text_preprocessing(text):\n",
    "    text = tokenize(text)\n",
    "    text = remove_stopwords(text)\n",
    "    text = stemming(text)\n",
    "    text = words_to_sentence(text)\n",
    "    return text"
   ]
  },
  {
   "cell_type": "code",
   "execution_count": 7,
   "metadata": {},
   "outputs": [
    {
     "data": {
      "text/html": [
       "<div>\n",
       "<style scoped>\n",
       "    .dataframe tbody tr th:only-of-type {\n",
       "        vertical-align: middle;\n",
       "    }\n",
       "\n",
       "    .dataframe tbody tr th {\n",
       "        vertical-align: top;\n",
       "    }\n",
       "\n",
       "    .dataframe thead th {\n",
       "        text-align: right;\n",
       "    }\n",
       "</style>\n",
       "<table border=\"1\" class=\"dataframe\">\n",
       "  <thead>\n",
       "    <tr style=\"text-align: right;\">\n",
       "      <th></th>\n",
       "      <th>Text</th>\n",
       "      <th>Text_Cleansing</th>\n",
       "      <th>Text_Preprocessing</th>\n",
       "      <th>Sentiment</th>\n",
       "    </tr>\n",
       "  </thead>\n",
       "  <tbody>\n",
       "    <tr>\n",
       "      <th>0</th>\n",
       "      <td>warung ini dimiliki oleh pengusaha pabrik tahu...</td>\n",
       "      <td>warung ini dimiliki oleh pengusaha pabrik tahu...</td>\n",
       "      <td>warung milik usaha pabrik puluh kenal putih ba...</td>\n",
       "      <td>positive</td>\n",
       "    </tr>\n",
       "    <tr>\n",
       "      <th>1</th>\n",
       "      <td>mohon ulama lurus dan k212 mmbri hujjah partai...</td>\n",
       "      <td>mohon ulama lurus dan k mmbri hujjah partai ap...</td>\n",
       "      <td>mohon ulama lurus k mmbri hujjah partai diwlh ...</td>\n",
       "      <td>neutral</td>\n",
       "    </tr>\n",
       "    <tr>\n",
       "      <th>2</th>\n",
       "      <td>lokasi strategis di jalan sumatera bandung . t...</td>\n",
       "      <td>lokasi strategis di jalan sumatra bandung temp...</td>\n",
       "      <td>lokasi strategis jalan sumatra bandung nya nya...</td>\n",
       "      <td>positive</td>\n",
       "    </tr>\n",
       "    <tr>\n",
       "      <th>3</th>\n",
       "      <td>betapa bahagia nya diri ini saat unboxing pake...</td>\n",
       "      <td>betapa bahagia nya diri ini saat unbog paket d...</td>\n",
       "      <td>betapa bahagia nya unbog paket barang nya bagu...</td>\n",
       "      <td>positive</td>\n",
       "    </tr>\n",
       "    <tr>\n",
       "      <th>4</th>\n",
       "      <td>duh . jadi mahasiswa jangan sombong dong . kas...</td>\n",
       "      <td>aduh jadi mahasiswa jangan sombong dong kasih ...</td>\n",
       "      <td>aduh mahasiswa sombong kasih kartu kuning ajar...</td>\n",
       "      <td>negative</td>\n",
       "    </tr>\n",
       "    <tr>\n",
       "      <th>...</th>\n",
       "      <td>...</td>\n",
       "      <td>...</td>\n",
       "      <td>...</td>\n",
       "      <td>...</td>\n",
       "    </tr>\n",
       "    <tr>\n",
       "      <th>10995</th>\n",
       "      <td>tidak kecewa</td>\n",
       "      <td>tidak kecewa</td>\n",
       "      <td>kecewa</td>\n",
       "      <td>positive</td>\n",
       "    </tr>\n",
       "    <tr>\n",
       "      <th>10996</th>\n",
       "      <td>enak rasa masakan nya apalagi kepiting yang me...</td>\n",
       "      <td>enak rasa masakan nya apalagi kepiting yang me...</td>\n",
       "      <td>enak masakan nya kepiting senang pilih kepitin...</td>\n",
       "      <td>positive</td>\n",
       "    </tr>\n",
       "    <tr>\n",
       "      <th>10997</th>\n",
       "      <td>hormati partai-partai yang telah berkoalisi</td>\n",
       "      <td>hormati partai yang telah berkoalisi</td>\n",
       "      <td>hormat partai koalisi</td>\n",
       "      <td>neutral</td>\n",
       "    </tr>\n",
       "    <tr>\n",
       "      <th>10998</th>\n",
       "      <td>pagi pagi di tol pasteur sudah macet parah , b...</td>\n",
       "      <td>pagi pagi di tol pasteur sudah macet parah bik...</td>\n",
       "      <td>pagi pagi tol pasteur macet parah bikin jengkel</td>\n",
       "      <td>negative</td>\n",
       "    </tr>\n",
       "    <tr>\n",
       "      <th>10999</th>\n",
       "      <td>meskipun sering belanja ke yogya di riau junct...</td>\n",
       "      <td>meskipun sering belanja ke yogyakarta di riau ...</td>\n",
       "      <td>belanja yogyakarta riau junction kali lihat fo...</td>\n",
       "      <td>positive</td>\n",
       "    </tr>\n",
       "  </tbody>\n",
       "</table>\n",
       "<p>11000 rows × 4 columns</p>\n",
       "</div>"
      ],
      "text/plain": [
       "                                                    Text  \\\n",
       "0      warung ini dimiliki oleh pengusaha pabrik tahu...   \n",
       "1      mohon ulama lurus dan k212 mmbri hujjah partai...   \n",
       "2      lokasi strategis di jalan sumatera bandung . t...   \n",
       "3      betapa bahagia nya diri ini saat unboxing pake...   \n",
       "4      duh . jadi mahasiswa jangan sombong dong . kas...   \n",
       "...                                                  ...   \n",
       "10995                                       tidak kecewa   \n",
       "10996  enak rasa masakan nya apalagi kepiting yang me...   \n",
       "10997        hormati partai-partai yang telah berkoalisi   \n",
       "10998  pagi pagi di tol pasteur sudah macet parah , b...   \n",
       "10999  meskipun sering belanja ke yogya di riau junct...   \n",
       "\n",
       "                                          Text_Cleansing  \\\n",
       "0      warung ini dimiliki oleh pengusaha pabrik tahu...   \n",
       "1      mohon ulama lurus dan k mmbri hujjah partai ap...   \n",
       "2      lokasi strategis di jalan sumatra bandung temp...   \n",
       "3      betapa bahagia nya diri ini saat unbog paket d...   \n",
       "4      aduh jadi mahasiswa jangan sombong dong kasih ...   \n",
       "...                                                  ...   \n",
       "10995                                       tidak kecewa   \n",
       "10996  enak rasa masakan nya apalagi kepiting yang me...   \n",
       "10997               hormati partai yang telah berkoalisi   \n",
       "10998  pagi pagi di tol pasteur sudah macet parah bik...   \n",
       "10999  meskipun sering belanja ke yogyakarta di riau ...   \n",
       "\n",
       "                                      Text_Preprocessing Sentiment  \n",
       "0      warung milik usaha pabrik puluh kenal putih ba...  positive  \n",
       "1      mohon ulama lurus k mmbri hujjah partai diwlh ...   neutral  \n",
       "2      lokasi strategis jalan sumatra bandung nya nya...  positive  \n",
       "3      betapa bahagia nya unbog paket barang nya bagu...  positive  \n",
       "4      aduh mahasiswa sombong kasih kartu kuning ajar...  negative  \n",
       "...                                                  ...       ...  \n",
       "10995                                             kecewa  positive  \n",
       "10996  enak masakan nya kepiting senang pilih kepitin...  positive  \n",
       "10997                              hormat partai koalisi   neutral  \n",
       "10998    pagi pagi tol pasteur macet parah bikin jengkel  negative  \n",
       "10999  belanja yogyakarta riau junction kali lihat fo...  positive  \n",
       "\n",
       "[11000 rows x 4 columns]"
      ]
     },
     "execution_count": 7,
     "metadata": {},
     "output_type": "execute_result"
    }
   ],
   "source": [
    "# # Sudah berhasil Cleansing\n",
    "# data_df['Text_Preprocessing'] = data_df['Text_Cleansing'].apply(text_preprocessing)\n",
    "\n",
    "# # Pilih kolom yang diinginkan\n",
    "# data_df = data_df[['Text', 'Text_Cleansing', 'Text_Preprocessing','Sentiment']]\n",
    "# data_df"
   ]
  },
  {
   "cell_type": "markdown",
   "metadata": {},
   "source": [
    "Menyimpan data menjadi csv"
   ]
  },
  {
   "cell_type": "code",
   "execution_count": 8,
   "metadata": {},
   "outputs": [],
   "source": [
    "# Save to csv\n",
    "data_df.to_csv('final_cleaned_data.csv', index=False)"
   ]
  },
  {
   "cell_type": "code",
   "execution_count": null,
   "metadata": {},
   "outputs": [],
   "source": []
  },
  {
   "cell_type": "code",
   "execution_count": null,
   "metadata": {},
   "outputs": [],
   "source": []
  },
  {
   "cell_type": "code",
   "execution_count": null,
   "metadata": {},
   "outputs": [],
   "source": []
  },
  {
   "cell_type": "code",
   "execution_count": null,
   "metadata": {},
   "outputs": [],
   "source": []
  },
  {
   "cell_type": "code",
   "execution_count": null,
   "metadata": {},
   "outputs": [],
   "source": []
  },
  {
   "cell_type": "code",
   "execution_count": null,
   "metadata": {},
   "outputs": [],
   "source": []
  },
  {
   "cell_type": "code",
   "execution_count": null,
   "metadata": {},
   "outputs": [],
   "source": []
  },
  {
   "cell_type": "code",
   "execution_count": null,
   "metadata": {},
   "outputs": [],
   "source": []
  },
  {
   "cell_type": "code",
   "execution_count": null,
   "metadata": {},
   "outputs": [],
   "source": []
  },
  {
   "cell_type": "code",
   "execution_count": null,
   "metadata": {},
   "outputs": [],
   "source": []
  },
  {
   "cell_type": "code",
   "execution_count": null,
   "metadata": {},
   "outputs": [],
   "source": []
  },
  {
   "cell_type": "code",
   "execution_count": null,
   "metadata": {},
   "outputs": [],
   "source": []
  },
  {
   "cell_type": "code",
   "execution_count": null,
   "metadata": {},
   "outputs": [],
   "source": []
  },
  {
   "cell_type": "code",
   "execution_count": null,
   "metadata": {},
   "outputs": [],
   "source": []
  },
  {
   "cell_type": "code",
   "execution_count": null,
   "metadata": {},
   "outputs": [],
   "source": []
  },
  {
   "cell_type": "code",
   "execution_count": null,
   "metadata": {},
   "outputs": [],
   "source": []
  },
  {
   "cell_type": "code",
   "execution_count": null,
   "metadata": {},
   "outputs": [],
   "source": []
  },
  {
   "cell_type": "code",
   "execution_count": null,
   "metadata": {},
   "outputs": [],
   "source": [
    "#create standardized dataset using standard scaler\n",
    "stdscl = StandardScaler()\n",
    "stdscl.fit(X_train)\n",
    "X_train_std = stdscl.transform(X_train)\n",
    "X_val_std = stdscl.transform(X_val)"
   ]
  },
  {
   "cell_type": "markdown",
   "metadata": {},
   "source": [
    "# Feature Extractions : Bag of Word"
   ]
  },
  {
   "cell_type": "code",
   "execution_count": 46,
   "metadata": {},
   "outputs": [
    {
     "name": "stdout",
     "output_type": "stream",
     "text": [
      "Features Extraction selesai\n",
      "['aakan' 'aan' 'aape' ... 'zupa' 'zuppa' 'zwitsal']\n",
      "[[0 0 0 ... 0 0 0]\n",
      " [0 0 0 ... 0 0 0]\n",
      " [0 0 0 ... 0 0 0]\n",
      " ...\n",
      " [0 0 0 ... 0 0 0]\n",
      " [0 0 0 ... 0 0 0]\n",
      " [0 0 0 ... 0 0 0]]\n"
     ]
    }
   ],
   "source": [
    "from sklearn.feature_extraction.text import CountVectorizer\n",
    "\n",
    "# Proses FeatureExtraction\n",
    "count_vect = CountVectorizer()\n",
    "count_vect.fit(data_preprocessed) # fit untuk mengambil informasi yang kita punya\n",
    "\n",
    "X= count_vect.transform(data_preprocessed) # transfor untuk mengubah informasi yang kita punya\n",
    "print('Features Extraction selesai')\n",
    "print(count_vect.get_feature_names_out())\n",
    "print(X.toarray())"
   ]
  },
  {
   "cell_type": "code",
   "execution_count": 51,
   "metadata": {},
   "outputs": [],
   "source": [
    "import pickle\n",
    "\n",
    "pickle.dump(count_vect, open('features.p','wb'))"
   ]
  },
  {
   "cell_type": "markdown",
   "metadata": {},
   "source": [
    "# Splitting Dataset"
   ]
  },
  {
   "cell_type": "code",
   "execution_count": 52,
   "metadata": {},
   "outputs": [
    {
     "name": "stdout",
     "output_type": "stream",
     "text": [
      "(8794, 12281) (2199, 12281) (8794,) (2199,)\n",
      "[[0 0 0 ... 0 0 0]\n",
      " [0 0 0 ... 0 0 0]\n",
      " [0 0 0 ... 0 0 0]\n",
      " ...\n",
      " [0 0 0 ... 0 0 0]\n",
      " [0 0 0 ... 0 0 0]\n",
      " [0 0 0 ... 0 0 0]]\n"
     ]
    }
   ],
   "source": [
    "from sklearn.model_selection import train_test_split\n",
    "X_train, X_test, y_train, y_test = train_test_split(X, df_label, test_size=0.2, random_state=123)\n",
    "\n",
    "print(X_train.shape, X_test.shape, y_train.shape, y_test.shape)\n",
    "print(X_train.toarray())"
   ]
  },
  {
   "cell_type": "markdown",
   "metadata": {},
   "source": [
    "# Modelling with LSTM"
   ]
  },
  {
   "cell_type": "code",
   "execution_count": 53,
   "metadata": {},
   "outputs": [],
   "source": [
    "import numpy as np\n",
    "from tensorflow.keras import layers\n",
    "from tensorflow.keras.models import Sequential\n",
    "from tensorflow.keras.layers import Dense, Embedding, LSTM, SpatialDropout1D, SimpleRNN, Activation\n",
    "from tensorflow.keras import optimizers\n",
    "from tensorflow.keras.callbacks import EarlyStopping, TensorBoard\n",
    "from tensorflow.keras.layers import Flatten\n",
    "from tensorflow.keras import backend as K"
   ]
  },
  {
   "cell_type": "code",
   "execution_count": 56,
   "metadata": {},
   "outputs": [],
   "source": [
    "# Tokenisasi teks\n",
    "tokenizer = Tokenizer()\n",
    "tokenizer.fit_on_texts(data_preprocessed)\n",
    "X_sequences = tokenizer.texts_to_sequences(data_preprocessed)"
   ]
  },
  {
   "cell_type": "code",
   "execution_count": 61,
   "metadata": {},
   "outputs": [
    {
     "name": "stderr",
     "output_type": "stream",
     "text": [
      "c:\\Users\\Admin\\anaconda3\\Lib\\site-packages\\keras\\src\\layers\\core\\embedding.py:90: UserWarning: Argument `input_length` is deprecated. Just remove it.\n",
      "  warnings.warn(\n"
     ]
    },
    {
     "data": {
      "text/html": [
       "<pre style=\"white-space:pre;overflow-x:auto;line-height:normal;font-family:Menlo,'DejaVu Sans Mono',consolas,'Courier New',monospace\"><span style=\"font-weight: bold\">Model: \"sequential_2\"</span>\n",
       "</pre>\n"
      ],
      "text/plain": [
       "\u001b[1mModel: \"sequential_2\"\u001b[0m\n"
      ]
     },
     "metadata": {},
     "output_type": "display_data"
    },
    {
     "data": {
      "text/html": [
       "<pre style=\"white-space:pre;overflow-x:auto;line-height:normal;font-family:Menlo,'DejaVu Sans Mono',consolas,'Courier New',monospace\">┏━━━━━━━━━━━━━━━━━━━━━━━━━━━━━━━━━┳━━━━━━━━━━━━━━━━━━━━━━━━┳━━━━━━━━━━━━━━━┓\n",
       "┃<span style=\"font-weight: bold\"> Layer (type)                    </span>┃<span style=\"font-weight: bold\"> Output Shape           </span>┃<span style=\"font-weight: bold\">       Param # </span>┃\n",
       "┡━━━━━━━━━━━━━━━━━━━━━━━━━━━━━━━━━╇━━━━━━━━━━━━━━━━━━━━━━━━╇━━━━━━━━━━━━━━━┩\n",
       "│ embedding (<span style=\"color: #0087ff; text-decoration-color: #0087ff\">Embedding</span>)           │ ?                      │   <span style=\"color: #00af00; text-decoration-color: #00af00\">0</span> (unbuilt) │\n",
       "├─────────────────────────────────┼────────────────────────┼───────────────┤\n",
       "│ lstm (<span style=\"color: #0087ff; text-decoration-color: #0087ff\">LSTM</span>)                     │ ?                      │   <span style=\"color: #00af00; text-decoration-color: #00af00\">0</span> (unbuilt) │\n",
       "├─────────────────────────────────┼────────────────────────┼───────────────┤\n",
       "│ dense (<span style=\"color: #0087ff; text-decoration-color: #0087ff\">Dense</span>)                   │ ?                      │   <span style=\"color: #00af00; text-decoration-color: #00af00\">0</span> (unbuilt) │\n",
       "└─────────────────────────────────┴────────────────────────┴───────────────┘\n",
       "</pre>\n"
      ],
      "text/plain": [
       "┏━━━━━━━━━━━━━━━━━━━━━━━━━━━━━━━━━┳━━━━━━━━━━━━━━━━━━━━━━━━┳━━━━━━━━━━━━━━━┓\n",
       "┃\u001b[1m \u001b[0m\u001b[1mLayer (type)                   \u001b[0m\u001b[1m \u001b[0m┃\u001b[1m \u001b[0m\u001b[1mOutput Shape          \u001b[0m\u001b[1m \u001b[0m┃\u001b[1m \u001b[0m\u001b[1m      Param #\u001b[0m\u001b[1m \u001b[0m┃\n",
       "┡━━━━━━━━━━━━━━━━━━━━━━━━━━━━━━━━━╇━━━━━━━━━━━━━━━━━━━━━━━━╇━━━━━━━━━━━━━━━┩\n",
       "│ embedding (\u001b[38;5;33mEmbedding\u001b[0m)           │ ?                      │   \u001b[38;5;34m0\u001b[0m (unbuilt) │\n",
       "├─────────────────────────────────┼────────────────────────┼───────────────┤\n",
       "│ lstm (\u001b[38;5;33mLSTM\u001b[0m)                     │ ?                      │   \u001b[38;5;34m0\u001b[0m (unbuilt) │\n",
       "├─────────────────────────────────┼────────────────────────┼───────────────┤\n",
       "│ dense (\u001b[38;5;33mDense\u001b[0m)                   │ ?                      │   \u001b[38;5;34m0\u001b[0m (unbuilt) │\n",
       "└─────────────────────────────────┴────────────────────────┴───────────────┘\n"
      ]
     },
     "metadata": {},
     "output_type": "display_data"
    },
    {
     "data": {
      "text/html": [
       "<pre style=\"white-space:pre;overflow-x:auto;line-height:normal;font-family:Menlo,'DejaVu Sans Mono',consolas,'Courier New',monospace\"><span style=\"font-weight: bold\"> Total params: </span><span style=\"color: #00af00; text-decoration-color: #00af00\">0</span> (0.00 B)\n",
       "</pre>\n"
      ],
      "text/plain": [
       "\u001b[1m Total params: \u001b[0m\u001b[38;5;34m0\u001b[0m (0.00 B)\n"
      ]
     },
     "metadata": {},
     "output_type": "display_data"
    },
    {
     "data": {
      "text/html": [
       "<pre style=\"white-space:pre;overflow-x:auto;line-height:normal;font-family:Menlo,'DejaVu Sans Mono',consolas,'Courier New',monospace\"><span style=\"font-weight: bold\"> Trainable params: </span><span style=\"color: #00af00; text-decoration-color: #00af00\">0</span> (0.00 B)\n",
       "</pre>\n"
      ],
      "text/plain": [
       "\u001b[1m Trainable params: \u001b[0m\u001b[38;5;34m0\u001b[0m (0.00 B)\n"
      ]
     },
     "metadata": {},
     "output_type": "display_data"
    },
    {
     "data": {
      "text/html": [
       "<pre style=\"white-space:pre;overflow-x:auto;line-height:normal;font-family:Menlo,'DejaVu Sans Mono',consolas,'Courier New',monospace\"><span style=\"font-weight: bold\"> Non-trainable params: </span><span style=\"color: #00af00; text-decoration-color: #00af00\">0</span> (0.00 B)\n",
       "</pre>\n"
      ],
      "text/plain": [
       "\u001b[1m Non-trainable params: \u001b[0m\u001b[38;5;34m0\u001b[0m (0.00 B)\n"
      ]
     },
     "metadata": {},
     "output_type": "display_data"
    },
    {
     "name": "stdout",
     "output_type": "stream",
     "text": [
      "None\n",
      "Epoch 1/30\n"
     ]
    },
    {
     "ename": "ValueError",
     "evalue": "Arguments `target` and `output` must have the same shape. Received: target.shape=(None, 1), output.shape=(None, 3)",
     "output_type": "error",
     "traceback": [
      "\u001b[1;31m---------------------------------------------------------------------------\u001b[0m",
      "\u001b[1;31mValueError\u001b[0m                                Traceback (most recent call last)",
      "Cell \u001b[1;32mIn[61], line 16\u001b[0m\n\u001b[0;32m     13\u001b[0m \u001b[38;5;28mprint\u001b[39m(model\u001b[38;5;241m.\u001b[39msummary())\n\u001b[0;32m     15\u001b[0m es \u001b[38;5;241m=\u001b[39m EarlyStopping(monitor\u001b[38;5;241m=\u001b[39m\u001b[38;5;124m'\u001b[39m\u001b[38;5;124mval_loss\u001b[39m\u001b[38;5;124m'\u001b[39m, mode\u001b[38;5;241m=\u001b[39m\u001b[38;5;124m'\u001b[39m\u001b[38;5;124mmin\u001b[39m\u001b[38;5;124m'\u001b[39m, verbose\u001b[38;5;241m=\u001b[39m\u001b[38;5;241m1\u001b[39m, patience\u001b[38;5;241m=\u001b[39m\u001b[38;5;241m3\u001b[39m)\n\u001b[1;32m---> 16\u001b[0m history \u001b[38;5;241m=\u001b[39m model\u001b[38;5;241m.\u001b[39mfit(X_train, y_train, epochs\u001b[38;5;241m=\u001b[39m\u001b[38;5;241m30\u001b[39m, batch_size\u001b[38;5;241m=\u001b[39m\u001b[38;5;241m50\u001b[39m, validation_data\u001b[38;5;241m=\u001b[39m(X_test, y_test), verbose\u001b[38;5;241m=\u001b[39m\u001b[38;5;241m1\u001b[39m, callbacks\u001b[38;5;241m=\u001b[39m[es])\n",
      "File \u001b[1;32mc:\\Users\\Admin\\anaconda3\\Lib\\site-packages\\keras\\src\\utils\\traceback_utils.py:122\u001b[0m, in \u001b[0;36mfilter_traceback.<locals>.error_handler\u001b[1;34m(*args, **kwargs)\u001b[0m\n\u001b[0;32m    119\u001b[0m     filtered_tb \u001b[38;5;241m=\u001b[39m _process_traceback_frames(e\u001b[38;5;241m.\u001b[39m__traceback__)\n\u001b[0;32m    120\u001b[0m     \u001b[38;5;66;03m# To get the full stack trace, call:\u001b[39;00m\n\u001b[0;32m    121\u001b[0m     \u001b[38;5;66;03m# `keras.config.disable_traceback_filtering()`\u001b[39;00m\n\u001b[1;32m--> 122\u001b[0m     \u001b[38;5;28;01mraise\u001b[39;00m e\u001b[38;5;241m.\u001b[39mwith_traceback(filtered_tb) \u001b[38;5;28;01mfrom\u001b[39;00m \u001b[38;5;28;01mNone\u001b[39;00m\n\u001b[0;32m    123\u001b[0m \u001b[38;5;28;01mfinally\u001b[39;00m:\n\u001b[0;32m    124\u001b[0m     \u001b[38;5;28;01mdel\u001b[39;00m filtered_tb\n",
      "File \u001b[1;32mc:\\Users\\Admin\\anaconda3\\Lib\\site-packages\\keras\\src\\backend\\tensorflow\\nn.py:554\u001b[0m, in \u001b[0;36mcategorical_crossentropy\u001b[1;34m(target, output, from_logits, axis)\u001b[0m\n\u001b[0;32m    552\u001b[0m \u001b[38;5;28;01mfor\u001b[39;00m e1, e2 \u001b[38;5;129;01min\u001b[39;00m \u001b[38;5;28mzip\u001b[39m(target\u001b[38;5;241m.\u001b[39mshape, output\u001b[38;5;241m.\u001b[39mshape):\n\u001b[0;32m    553\u001b[0m     \u001b[38;5;28;01mif\u001b[39;00m e1 \u001b[38;5;129;01mis\u001b[39;00m \u001b[38;5;129;01mnot\u001b[39;00m \u001b[38;5;28;01mNone\u001b[39;00m \u001b[38;5;129;01mand\u001b[39;00m e2 \u001b[38;5;129;01mis\u001b[39;00m \u001b[38;5;129;01mnot\u001b[39;00m \u001b[38;5;28;01mNone\u001b[39;00m \u001b[38;5;129;01mand\u001b[39;00m e1 \u001b[38;5;241m!=\u001b[39m e2:\n\u001b[1;32m--> 554\u001b[0m         \u001b[38;5;28;01mraise\u001b[39;00m \u001b[38;5;167;01mValueError\u001b[39;00m(\n\u001b[0;32m    555\u001b[0m             \u001b[38;5;124m\"\u001b[39m\u001b[38;5;124mArguments `target` and `output` must have the same shape. \u001b[39m\u001b[38;5;124m\"\u001b[39m\n\u001b[0;32m    556\u001b[0m             \u001b[38;5;124m\"\u001b[39m\u001b[38;5;124mReceived: \u001b[39m\u001b[38;5;124m\"\u001b[39m\n\u001b[0;32m    557\u001b[0m             \u001b[38;5;124mf\u001b[39m\u001b[38;5;124m\"\u001b[39m\u001b[38;5;124mtarget.shape=\u001b[39m\u001b[38;5;132;01m{\u001b[39;00mtarget\u001b[38;5;241m.\u001b[39mshape\u001b[38;5;132;01m}\u001b[39;00m\u001b[38;5;124m, output.shape=\u001b[39m\u001b[38;5;132;01m{\u001b[39;00moutput\u001b[38;5;241m.\u001b[39mshape\u001b[38;5;132;01m}\u001b[39;00m\u001b[38;5;124m\"\u001b[39m\n\u001b[0;32m    558\u001b[0m         )\n\u001b[0;32m    560\u001b[0m output, from_logits \u001b[38;5;241m=\u001b[39m _get_logits(\n\u001b[0;32m    561\u001b[0m     output, from_logits, \u001b[38;5;124m\"\u001b[39m\u001b[38;5;124mSoftmax\u001b[39m\u001b[38;5;124m\"\u001b[39m, \u001b[38;5;124m\"\u001b[39m\u001b[38;5;124mcategorical_crossentropy\u001b[39m\u001b[38;5;124m\"\u001b[39m\n\u001b[0;32m    562\u001b[0m )\n\u001b[0;32m    563\u001b[0m \u001b[38;5;28;01mif\u001b[39;00m from_logits:\n",
      "\u001b[1;31mValueError\u001b[0m: Arguments `target` and `output` must have the same shape. Received: target.shape=(None, 1), output.shape=(None, 3)"
     ]
    }
   ],
   "source": [
    "max_features = 10000\n",
    "embed_dim = 100\n",
    "units = 64\n",
    "\n",
    "model = Sequential()\n",
    "model.add(Embedding(max_features, embed_dim, input_length=X.shape[1]))\n",
    "model.add(LSTM(units, dropout=0.2))\n",
    "model.add(Dense(3, activation='softmax'))\n",
    "\n",
    "adam = optimizers.Adam(learning_rate=0.001)\n",
    "\n",
    "model.compile(loss='categorical_crossentropy', optimizer=adam, metrics=['accuracy'])\n",
    "print(model.summary())\n",
    "\n",
    "es = EarlyStopping(monitor='val_loss', mode='min', verbose=1, patience=3)\n",
    "history = model.fit(X_train, y_train, epochs=30, batch_size=50, validation_data=(X_test, y_test), verbose=1, callbacks=[es])"
   ]
  },
  {
   "cell_type": "code",
   "execution_count": null,
   "metadata": {},
   "outputs": [],
   "source": []
  },
  {
   "cell_type": "code",
   "execution_count": null,
   "metadata": {},
   "outputs": [],
   "source": []
  },
  {
   "cell_type": "code",
   "execution_count": null,
   "metadata": {},
   "outputs": [],
   "source": []
  },
  {
   "cell_type": "code",
   "execution_count": null,
   "metadata": {},
   "outputs": [],
   "source": []
  },
  {
   "cell_type": "code",
   "execution_count": null,
   "metadata": {},
   "outputs": [],
   "source": []
  },
  {
   "cell_type": "code",
   "execution_count": null,
   "metadata": {},
   "outputs": [],
   "source": []
  },
  {
   "cell_type": "code",
   "execution_count": null,
   "metadata": {},
   "outputs": [],
   "source": []
  },
  {
   "cell_type": "code",
   "execution_count": null,
   "metadata": {},
   "outputs": [],
   "source": []
  },
  {
   "cell_type": "code",
   "execution_count": 26,
   "metadata": {},
   "outputs": [
    {
     "name": "stdout",
     "output_type": "stream",
     "text": [
      "y_labels.pickle has created!\n"
     ]
    }
   ],
   "source": [
    "Y = pd.get_dummies(labels)\n",
    "Y = Y.values\n",
    "\n",
    "with open('y_labels.pickle', 'wb') as handle:\n",
    "    pickle.dump(Y, handle, protocol=pickle.HIGHEST_PROTOCOL)\n",
    "    print(\"y_labels.pickle has created!\")"
   ]
  },
  {
   "cell_type": "code",
   "execution_count": 27,
   "metadata": {},
   "outputs": [],
   "source": [
    "from sklearn.model_selection import train_test_split\n",
    "\n",
    "file = open(\"x_pad_sequences.pickle\",'rb')\n",
    "X = pickle.load(file)\n",
    "file.close()\n",
    "\n",
    "file = open(\"y_labels.pickle\",'rb')\n",
    "Y = pickle.load(file)\n",
    "file.close()\n",
    "\n",
    "X_train, X_test, y_train, y_test = train_test_split(X, Y, test_size=0.2, random_state=123)"
   ]
  },
  {
   "cell_type": "code",
   "execution_count": 19,
   "metadata": {},
   "outputs": [],
   "source": [
    "import numpy as np\n",
    "from tensorflow.keras import layers\n",
    "from tensorflow.keras.models import Sequential\n",
    "from tensorflow.keras.layers import Dense, Embedding, LSTM, SpatialDropout1D, SimpleRNN, Activation\n",
    "from tensorflow.keras import optimizers\n",
    "from tensorflow.keras.callbacks import EarlyStopping, TensorBoard\n",
    "from tensorflow.keras.layers import Flatten\n",
    "from tensorflow.keras import backend as K"
   ]
  },
  {
   "cell_type": "code",
   "execution_count": 29,
   "metadata": {},
   "outputs": [
    {
     "data": {
      "text/html": [
       "<pre style=\"white-space:pre;overflow-x:auto;line-height:normal;font-family:Menlo,'DejaVu Sans Mono',consolas,'Courier New',monospace\"><span style=\"font-weight: bold\">Model: \"sequential_3\"</span>\n",
       "</pre>\n"
      ],
      "text/plain": [
       "\u001b[1mModel: \"sequential_3\"\u001b[0m\n"
      ]
     },
     "metadata": {},
     "output_type": "display_data"
    },
    {
     "data": {
      "text/html": [
       "<pre style=\"white-space:pre;overflow-x:auto;line-height:normal;font-family:Menlo,'DejaVu Sans Mono',consolas,'Courier New',monospace\">┏━━━━━━━━━━━━━━━━━━━━━━━━━━━━━━━━━┳━━━━━━━━━━━━━━━━━━━━━━━━┳━━━━━━━━━━━━━━━┓\n",
       "┃<span style=\"font-weight: bold\"> Layer (type)                    </span>┃<span style=\"font-weight: bold\"> Output Shape           </span>┃<span style=\"font-weight: bold\">       Param # </span>┃\n",
       "┡━━━━━━━━━━━━━━━━━━━━━━━━━━━━━━━━━╇━━━━━━━━━━━━━━━━━━━━━━━━╇━━━━━━━━━━━━━━━┩\n",
       "│ embedding_3 (<span style=\"color: #0087ff; text-decoration-color: #0087ff\">Embedding</span>)         │ ?                      │   <span style=\"color: #00af00; text-decoration-color: #00af00\">0</span> (unbuilt) │\n",
       "├─────────────────────────────────┼────────────────────────┼───────────────┤\n",
       "│ lstm_3 (<span style=\"color: #0087ff; text-decoration-color: #0087ff\">LSTM</span>)                   │ ?                      │   <span style=\"color: #00af00; text-decoration-color: #00af00\">0</span> (unbuilt) │\n",
       "├─────────────────────────────────┼────────────────────────┼───────────────┤\n",
       "│ dense_3 (<span style=\"color: #0087ff; text-decoration-color: #0087ff\">Dense</span>)                 │ ?                      │   <span style=\"color: #00af00; text-decoration-color: #00af00\">0</span> (unbuilt) │\n",
       "└─────────────────────────────────┴────────────────────────┴───────────────┘\n",
       "</pre>\n"
      ],
      "text/plain": [
       "┏━━━━━━━━━━━━━━━━━━━━━━━━━━━━━━━━━┳━━━━━━━━━━━━━━━━━━━━━━━━┳━━━━━━━━━━━━━━━┓\n",
       "┃\u001b[1m \u001b[0m\u001b[1mLayer (type)                   \u001b[0m\u001b[1m \u001b[0m┃\u001b[1m \u001b[0m\u001b[1mOutput Shape          \u001b[0m\u001b[1m \u001b[0m┃\u001b[1m \u001b[0m\u001b[1m      Param #\u001b[0m\u001b[1m \u001b[0m┃\n",
       "┡━━━━━━━━━━━━━━━━━━━━━━━━━━━━━━━━━╇━━━━━━━━━━━━━━━━━━━━━━━━╇━━━━━━━━━━━━━━━┩\n",
       "│ embedding_3 (\u001b[38;5;33mEmbedding\u001b[0m)         │ ?                      │   \u001b[38;5;34m0\u001b[0m (unbuilt) │\n",
       "├─────────────────────────────────┼────────────────────────┼───────────────┤\n",
       "│ lstm_3 (\u001b[38;5;33mLSTM\u001b[0m)                   │ ?                      │   \u001b[38;5;34m0\u001b[0m (unbuilt) │\n",
       "├─────────────────────────────────┼────────────────────────┼───────────────┤\n",
       "│ dense_3 (\u001b[38;5;33mDense\u001b[0m)                 │ ?                      │   \u001b[38;5;34m0\u001b[0m (unbuilt) │\n",
       "└─────────────────────────────────┴────────────────────────┴───────────────┘\n"
      ]
     },
     "metadata": {},
     "output_type": "display_data"
    },
    {
     "data": {
      "text/html": [
       "<pre style=\"white-space:pre;overflow-x:auto;line-height:normal;font-family:Menlo,'DejaVu Sans Mono',consolas,'Courier New',monospace\"><span style=\"font-weight: bold\"> Total params: </span><span style=\"color: #00af00; text-decoration-color: #00af00\">0</span> (0.00 B)\n",
       "</pre>\n"
      ],
      "text/plain": [
       "\u001b[1m Total params: \u001b[0m\u001b[38;5;34m0\u001b[0m (0.00 B)\n"
      ]
     },
     "metadata": {},
     "output_type": "display_data"
    },
    {
     "data": {
      "text/html": [
       "<pre style=\"white-space:pre;overflow-x:auto;line-height:normal;font-family:Menlo,'DejaVu Sans Mono',consolas,'Courier New',monospace\"><span style=\"font-weight: bold\"> Trainable params: </span><span style=\"color: #00af00; text-decoration-color: #00af00\">0</span> (0.00 B)\n",
       "</pre>\n"
      ],
      "text/plain": [
       "\u001b[1m Trainable params: \u001b[0m\u001b[38;5;34m0\u001b[0m (0.00 B)\n"
      ]
     },
     "metadata": {},
     "output_type": "display_data"
    },
    {
     "data": {
      "text/html": [
       "<pre style=\"white-space:pre;overflow-x:auto;line-height:normal;font-family:Menlo,'DejaVu Sans Mono',consolas,'Courier New',monospace\"><span style=\"font-weight: bold\"> Non-trainable params: </span><span style=\"color: #00af00; text-decoration-color: #00af00\">0</span> (0.00 B)\n",
       "</pre>\n"
      ],
      "text/plain": [
       "\u001b[1m Non-trainable params: \u001b[0m\u001b[38;5;34m0\u001b[0m (0.00 B)\n"
      ]
     },
     "metadata": {},
     "output_type": "display_data"
    },
    {
     "name": "stdout",
     "output_type": "stream",
     "text": [
      "None\n",
      "Epoch 1/30\n",
      "\u001b[1m176/176\u001b[0m \u001b[32m━━━━━━━━━━━━━━━━━━━━\u001b[0m\u001b[37m\u001b[0m \u001b[1m60s\u001b[0m 299ms/step - accuracy: 0.6858 - loss: 0.7650 - val_accuracy: 0.8336 - val_loss: 0.4244\n",
      "Epoch 2/30\n",
      "\u001b[1m176/176\u001b[0m \u001b[32m━━━━━━━━━━━━━━━━━━━━\u001b[0m\u001b[37m\u001b[0m \u001b[1m80s\u001b[0m 287ms/step - accuracy: 0.8776 - loss: 0.3361 - val_accuracy: 0.8782 - val_loss: 0.3211\n",
      "Epoch 3/30\n",
      "\u001b[1m176/176\u001b[0m \u001b[32m━━━━━━━━━━━━━━━━━━━━\u001b[0m\u001b[37m\u001b[0m \u001b[1m47s\u001b[0m 269ms/step - accuracy: 0.9320 - loss: 0.1939 - val_accuracy: 0.8727 - val_loss: 0.3402\n",
      "Epoch 4/30\n",
      "\u001b[1m176/176\u001b[0m \u001b[32m━━━━━━━━━━━━━━━━━━━━\u001b[0m\u001b[37m\u001b[0m \u001b[1m46s\u001b[0m 259ms/step - accuracy: 0.9499 - loss: 0.1429 - val_accuracy: 0.8573 - val_loss: 0.3730\n",
      "Epoch 5/30\n",
      "\u001b[1m176/176\u001b[0m \u001b[32m━━━━━━━━━━━━━━━━━━━━\u001b[0m\u001b[37m\u001b[0m \u001b[1m40s\u001b[0m 227ms/step - accuracy: 0.9631 - loss: 0.1073 - val_accuracy: 0.8418 - val_loss: 0.5113\n",
      "Epoch 5: early stopping\n"
     ]
    }
   ],
   "source": [
    "embed_dim = 100\n",
    "units = 64\n",
    "\n",
    "model = Sequential()\n",
    "model.add(Embedding(max_features, embed_dim, input_length=X.shape[1]))\n",
    "model.add(LSTM(units, dropout=0.2))\n",
    "model.add(Dense(3, activation='softmax'))\n",
    "\n",
    "adam = optimizers.Adam(learning_rate=0.001)\n",
    "\n",
    "model.compile(loss='categorical_crossentropy', optimizer=adam, metrics=['accuracy'])\n",
    "print(model.summary())\n",
    "\n",
    "es = EarlyStopping(monitor='val_loss', mode='min', verbose=1, patience=3)\n",
    "history = model.fit(X_train, y_train, epochs=30, batch_size=50, validation_data=(X_test, y_test), verbose=1, callbacks=[es])"
   ]
  },
  {
   "cell_type": "code",
   "execution_count": 30,
   "metadata": {},
   "outputs": [
    {
     "name": "stdout",
     "output_type": "stream",
     "text": [
      "\u001b[1m69/69\u001b[0m \u001b[32m━━━━━━━━━━━━━━━━━━━━\u001b[0m\u001b[37m\u001b[0m \u001b[1m5s\u001b[0m 51ms/step\n",
      "Testing selesai\n",
      "              precision    recall  f1-score   support\n",
      "\n",
      "           0       0.73      0.83      0.78       648\n",
      "           1       0.85      0.59      0.70       239\n",
      "           2       0.90      0.89      0.90      1313\n",
      "\n",
      "    accuracy                           0.84      2200\n",
      "   macro avg       0.83      0.77      0.79      2200\n",
      "weighted avg       0.85      0.84      0.84      2200\n",
      "\n"
     ]
    }
   ],
   "source": [
    "from sklearn import metrics\n",
    "\n",
    "predictions = model.predict(X_test)\n",
    "y_pred = predictions\n",
    "matrix_test = metrics.classification_report(y_test.argmax(axis=1), y_pred.argmax(axis=1))\n",
    "print(\"Testing selesai\")\n",
    "print(matrix_test)"
   ]
  },
  {
   "cell_type": "code",
   "execution_count": 32,
   "metadata": {},
   "outputs": [
    {
     "name": "stderr",
     "output_type": "stream",
     "text": [
      "c:\\Users\\Admin\\anaconda3\\Lib\\site-packages\\keras\\src\\layers\\core\\embedding.py:90: UserWarning: Argument `input_length` is deprecated. Just remove it.\n",
      "  warnings.warn(\n"
     ]
    },
    {
     "name": "stdout",
     "output_type": "stream",
     "text": [
      "\u001b[1m69/69\u001b[0m \u001b[32m━━━━━━━━━━━━━━━━━━━━\u001b[0m\u001b[37m\u001b[0m \u001b[1m5s\u001b[0m 58ms/step\n",
      "Training ke- 1\n",
      "              precision    recall  f1-score   support\n",
      "\n",
      "           0       0.82      0.77      0.79       648\n",
      "           1       0.86      0.67      0.75       239\n",
      "           2       0.88      0.95      0.92      1313\n",
      "\n",
      "    accuracy                           0.87      2200\n",
      "   macro avg       0.86      0.80      0.82      2200\n",
      "weighted avg       0.86      0.87      0.86      2200\n",
      "\n",
      "======================================================\n"
     ]
    },
    {
     "name": "stderr",
     "output_type": "stream",
     "text": [
      "c:\\Users\\Admin\\anaconda3\\Lib\\site-packages\\keras\\src\\layers\\core\\embedding.py:90: UserWarning: Argument `input_length` is deprecated. Just remove it.\n",
      "  warnings.warn(\n"
     ]
    },
    {
     "name": "stdout",
     "output_type": "stream",
     "text": [
      "\u001b[1m69/69\u001b[0m \u001b[32m━━━━━━━━━━━━━━━━━━━━\u001b[0m\u001b[37m\u001b[0m \u001b[1m6s\u001b[0m 67ms/step\n",
      "Training ke- 2\n",
      "              precision    recall  f1-score   support\n",
      "\n",
      "           0       0.75      0.85      0.79       648\n",
      "           1       0.81      0.73      0.77       239\n",
      "           2       0.92      0.87      0.90      1313\n",
      "\n",
      "    accuracy                           0.85      2200\n",
      "   macro avg       0.83      0.82      0.82      2200\n",
      "weighted avg       0.86      0.85      0.85      2200\n",
      "\n",
      "======================================================\n"
     ]
    },
    {
     "name": "stderr",
     "output_type": "stream",
     "text": [
      "c:\\Users\\Admin\\anaconda3\\Lib\\site-packages\\keras\\src\\layers\\core\\embedding.py:90: UserWarning: Argument `input_length` is deprecated. Just remove it.\n",
      "  warnings.warn(\n"
     ]
    },
    {
     "name": "stdout",
     "output_type": "stream",
     "text": [
      "\u001b[1m69/69\u001b[0m \u001b[32m━━━━━━━━━━━━━━━━━━━━\u001b[0m\u001b[37m\u001b[0m \u001b[1m4s\u001b[0m 44ms/step\n",
      "Training ke- 3\n",
      "              precision    recall  f1-score   support\n",
      "\n",
      "           0       0.82      0.78      0.80       648\n",
      "           1       0.82      0.70      0.76       239\n",
      "           2       0.89      0.94      0.91      1313\n",
      "\n",
      "    accuracy                           0.86      2200\n",
      "   macro avg       0.85      0.81      0.82      2200\n",
      "weighted avg       0.86      0.86      0.86      2200\n",
      "\n",
      "======================================================\n"
     ]
    },
    {
     "name": "stderr",
     "output_type": "stream",
     "text": [
      "c:\\Users\\Admin\\anaconda3\\Lib\\site-packages\\keras\\src\\layers\\core\\embedding.py:90: UserWarning: Argument `input_length` is deprecated. Just remove it.\n",
      "  warnings.warn(\n"
     ]
    },
    {
     "name": "stdout",
     "output_type": "stream",
     "text": [
      "\u001b[1m69/69\u001b[0m \u001b[32m━━━━━━━━━━━━━━━━━━━━\u001b[0m\u001b[37m\u001b[0m \u001b[1m5s\u001b[0m 61ms/step\n",
      "Training ke- 4\n",
      "              precision    recall  f1-score   support\n",
      "\n",
      "           0       0.83      0.80      0.82       648\n",
      "           1       0.82      0.71      0.76       239\n",
      "           2       0.90      0.93      0.92      1313\n",
      "\n",
      "    accuracy                           0.87      2200\n",
      "   macro avg       0.85      0.82      0.83      2200\n",
      "weighted avg       0.87      0.87      0.87      2200\n",
      "\n",
      "======================================================\n"
     ]
    },
    {
     "name": "stderr",
     "output_type": "stream",
     "text": [
      "c:\\Users\\Admin\\anaconda3\\Lib\\site-packages\\keras\\src\\layers\\core\\embedding.py:90: UserWarning: Argument `input_length` is deprecated. Just remove it.\n",
      "  warnings.warn(\n"
     ]
    },
    {
     "name": "stdout",
     "output_type": "stream",
     "text": [
      "\u001b[1m69/69\u001b[0m \u001b[32m━━━━━━━━━━━━━━━━━━━━\u001b[0m\u001b[37m\u001b[0m \u001b[1m9s\u001b[0m 114ms/step\n",
      "Training ke- 5\n",
      "              precision    recall  f1-score   support\n",
      "\n",
      "           0       0.83      0.77      0.80       648\n",
      "           1       0.75      0.77      0.76       239\n",
      "           2       0.90      0.93      0.91      1313\n",
      "\n",
      "    accuracy                           0.86      2200\n",
      "   macro avg       0.83      0.82      0.82      2200\n",
      "weighted avg       0.86      0.86      0.86      2200\n",
      "\n",
      "======================================================\n",
      "\n",
      "\n",
      "\n",
      "Rata-rata Accuracy:  0.8632727272727273\n"
     ]
    }
   ],
   "source": [
    "# Untuk lebih menyakinkan lagi, kita juga bisa melakukan \"Cross Validation\"\n",
    "import numpy as np\n",
    "from sklearn.metrics import classification_report\n",
    "from sklearn.metrics import accuracy_score\n",
    "from sklearn.model_selection import KFold\n",
    "\n",
    "kf = KFold(n_splits=5,random_state=42,shuffle=True)\n",
    "\n",
    "accuracies = []\n",
    "\n",
    "y = Y\n",
    "\n",
    "embed_dim = 100\n",
    "units = 64\n",
    "\n",
    "for iteration, data in enumerate(kf.split(X), start=1):\n",
    "\n",
    "    data_train   = X[data[0]]\n",
    "    target_train = y[data[0]]\n",
    "\n",
    "    data_test    = X[data[1]]\n",
    "    target_test  = y[data[1]]\n",
    "\n",
    "\n",
    "    model = Sequential()\n",
    "    model.add(Embedding(max_features, embed_dim, input_length=X.shape[1]))\n",
    "    model.add(LSTM(units, dropout=0.2))\n",
    "    model.add(Dense(3,activation='softmax'))\n",
    "    model.compile(loss = 'binary_crossentropy', optimizer='adam',metrics = ['accuracy'])\n",
    "\n",
    "    adam = optimizers.Adam(learning_rate = 0.001)\n",
    "    model.compile(loss = 'categorical_crossentropy', optimizer = adam, metrics = ['accuracy'])\n",
    "\n",
    "    es = EarlyStopping(monitor='val_loss', mode='min', verbose=0)\n",
    "    history = model.fit(X_train, y_train, epochs=10, batch_size=10, validation_data=(X_test, y_test), verbose=0, callbacks=[es])\n",
    "\n",
    "    predictions = model.predict(X_test)\n",
    "    y_pred = predictions\n",
    "\n",
    "    # for the current fold only\n",
    "    accuracy = accuracy_score(y_test.argmax(axis=1), y_pred.argmax(axis=1))\n",
    "\n",
    "    print(\"Training ke-\", iteration)\n",
    "    print(classification_report(y_test.argmax(axis=1), y_pred.argmax(axis=1)))\n",
    "    print(\"======================================================\")\n",
    "\n",
    "    accuracies.append(accuracy)\n",
    "\n",
    "# this is the average accuracy over all folds\n",
    "average_accuracy = np.mean(accuracies)\n",
    "\n",
    "print()\n",
    "print()\n",
    "print()\n",
    "print(\"Rata-rata Accuracy: \", average_accuracy)"
   ]
  },
  {
   "cell_type": "code",
   "execution_count": 33,
   "metadata": {},
   "outputs": [
    {
     "data": {
      "image/png": "[encoded data removed]",
      "text/plain": [
       "<Figure size 1200x500 with 2 Axes>"
      ]
     },
     "metadata": {},
     "output_type": "display_data"
    }
   ],
   "source": [
    "# history.history\n",
    "import matplotlib.pyplot as plt\n",
    "plt.style.use('ggplot')\n",
    "\n",
    "def plot_history(history):\n",
    "    acc = history.history['accuracy']\n",
    "    val_acc = history.history['val_accuracy']\n",
    "    loss = history.history['loss']\n",
    "    val_loss = history.history['val_loss']\n",
    "    x = range(1, len(acc) + 1)\n",
    "\n",
    "    plt.figure(figsize=(12, 5))\n",
    "    plt.subplot(1, 2, 1)\n",
    "    plt.plot(x, acc, 'b', label='Training acc')\n",
    "    plt.plot(x, val_acc, 'r', label='Validation acc')\n",
    "    plt.title('Training and validation accuracy')\n",
    "    plt.legend()\n",
    "    plt.subplot(1, 2, 2)\n",
    "    plt.plot(x, loss, 'b', label='Training loss')\n",
    "    plt.plot(x, val_loss, 'r', label='Validation loss')\n",
    "    plt.title('Training and validation loss')\n",
    "    plt.legend()\n",
    "\n",
    "%matplotlib inline\n",
    "plot_history(history)"
   ]
  },
  {
   "cell_type": "code",
   "execution_count": 35,
   "metadata": {},
   "outputs": [
    {
     "name": "stderr",
     "output_type": "stream",
     "text": [
      "WARNING:absl:You are saving your model as an HDF5 file via `model.save()` or `keras.saving.save_model(model)`. This file format is considered legacy. We recommend using instead the native Keras format, e.g. `model.save('my_model.keras')` or `keras.saving.save_model(model, 'my_model.keras')`. \n"
     ]
    },
    {
     "name": "stdout",
     "output_type": "stream",
     "text": [
      "Model has created!\n"
     ]
    }
   ],
   "source": [
    "model.save('model.h5')\n",
    "print(\"Model has created!\")"
   ]
  },
  {
   "cell_type": "code",
   "execution_count": 42,
   "metadata": {},
   "outputs": [
    {
     "name": "stderr",
     "output_type": "stream",
     "text": [
      "WARNING:absl:Compiled the loaded model, but the compiled metrics have yet to be built. `model.compile_metrics` will be empty until you train or evaluate the model.\n"
     ]
    },
    {
     "name": "stdout",
     "output_type": "stream",
     "text": [
      "\u001b[1m1/1\u001b[0m \u001b[32m━━━━━━━━━━━━━━━━━━━━\u001b[0m\u001b[37m\u001b[0m \u001b[1m1s\u001b[0m 720ms/step\n",
      "Text:   fadli zon anjing kau   tidak usah kau sok polos   \n",
      "Sentiment:  negative\n"
     ]
    }
   ],
   "source": [
    "import re\n",
    "from keras.models import load_model\n",
    "\n",
    "input_text = \"\"\"\n",
    "fadli zon anjing kau . tidak usah kau sok polos .\n",
    "\"\"\"\n",
    "\n",
    "def cleansing(sent):\n",
    "    # Mengubah kata menjadi huruf kecil semua dengan menggunakan fungsi lower()\n",
    "    string = sent.lower()\n",
    "    # Menghapus emoticon dan tanda baca menggunakan \"RegEx\" dengan script di bawah\n",
    "    string = re.sub(r'[^a-zA-Z0-9]', ' ', string)\n",
    "    return string\n",
    "\n",
    "sentiment = ['negative', 'neutral', 'positive']\n",
    "\n",
    "text = [cleansing(input_text)]\n",
    "predicted = tokenizer.texts_to_sequences(text)\n",
    "guess = pad_sequences(predicted, maxlen=X.shape[1])\n",
    "\n",
    "model = load_model('model.h5')\n",
    "prediction = model.predict(guess)\n",
    "polarity = np.argmax(prediction[0])\n",
    "\n",
    "print(\"Text: \",text[0])\n",
    "print(\"Sentiment: \",sentiment[polarity])"
   ]
  },
  {
   "cell_type": "code",
   "execution_count": null,
   "metadata": {},
   "outputs": [],
   "source": []
  },
  {
   "cell_type": "code",
   "execution_count": null,
   "metadata": {},
   "outputs": [],
   "source": []
  },
  {
   "cell_type": "code",
   "execution_count": null,
   "metadata": {},
   "outputs": [],
   "source": []
  },
  {
   "cell_type": "code",
   "execution_count": null,
   "metadata": {},
   "outputs": [],
   "source": []
  },
  {
   "cell_type": "code",
   "execution_count": null,
   "metadata": {},
   "outputs": [],
   "source": []
  },
  {
   "cell_type": "code",
   "execution_count": null,
   "metadata": {},
   "outputs": [],
   "source": []
  },
  {
   "cell_type": "code",
   "execution_count": null,
   "metadata": {},
   "outputs": [],
   "source": []
  },
  {
   "cell_type": "code",
   "execution_count": null,
   "metadata": {},
   "outputs": [],
   "source": []
  },
  {
   "cell_type": "markdown",
   "metadata": {},
   "source": [
    "Mengambil 101 baris pertama untuk fitur (X) dan label (y)"
   ]
  },
  {
   "cell_type": "code",
   "execution_count": 37,
   "metadata": {},
   "outputs": [
    {
     "data": {
      "text/plain": [
       "0      positive\n",
       "1       neutral\n",
       "2      positive\n",
       "3      positive\n",
       "4      negative\n",
       "         ...   \n",
       "96     negative\n",
       "97     positive\n",
       "98      neutral\n",
       "99     negative\n",
       "100    positive\n",
       "Name: Sentiment, Length: 101, dtype: object"
      ]
     },
     "execution_count": 37,
     "metadata": {},
     "output_type": "execute_result"
    }
   ],
   "source": [
    "df_new = data_df[0:101] # variable X\n",
    "\n",
    "df_label = data_df.Sentiment[0:101] # variable y\n",
    "df_label"
   ]
  },
  {
   "cell_type": "markdown",
   "metadata": {},
   "source": [
    "Simpan text ke dalam sebuah var"
   ]
  },
  {
   "cell_type": "code",
   "execution_count": 38,
   "metadata": {},
   "outputs": [
    {
     "data": {
      "text/plain": [
       "['warung milik usaha pabrik puluh kenal putih bandung kualitas padu ahli masak padu kretivitas warung saji menu utama bahan tambah menu sepe i ayam selera indonesia harga jangkau lewat bletoka nya kalah asli tegal',\n",
       " 'mohon ulama lurus k ratus belas mmbri hujjah ai diwlh suara islam pecahpecah',\n",
       " 'lokasi strategis jalan sumatra bandung nya nyaman sofa lantai paella nya enak pas makan minum bir dingin appetiser nya enakenak',\n",
       " 'betapa bahagia nya unbog paket barang nya bagus tetap beli',\n",
       " 'aduh mahasiswa sombong kasih kakak kuning ajar usah ikutikut politik selesai kuliah nya politik telat dasar mahasiswa',\n",
       " 'makan agam harga makan food stall puluh kasir suasana ramai perhati parkir duduk',\n",
       " 'pakai kakak kredit baca untung rugi',\n",
       " 'unik bagus foto makan enak pegawai ramah bersih luas wifi kencang harga standar sesuai nya menu masakan makan barat indonesia menu favorit lychee mojito spagheti',\n",
       " 'keluarga nikmat alam kuliner senang rm sari sunda jalan setiabudhi bandung hubung rm sari sunda jalan setiabudhi tulis maaf rekanrekan baca bingung suka restoran layan restoran bilang cepat',\n",
       " 'syukur',\n",
       " 'simcard indosat inaktiv gara gara lupa isi pulsa kabar nya aktif pinda pasca bayar ribet banget',\n",
       " 'sifat iri muncul orang orang tuju hidup',\n",
       " 'cerita alam pesan steak grilled beef ratus saji steak ratus potong ratus ratus buruk kualitas daging nya enggan mes menu beef khusus nya sirloin lemak nya ukur steak menumenu tempel lidah saran beli menu label cheese lanjut',\n",
       " 'alam indosat moga langgan marahmarah layan langgan indosat',\n",
       " 'anak sulit nasehat',\n",
       " 'atas kayak anies sandi becus pasu bersih nya',\n",
       " 'badan usaha milik negara bentuk undang undang bentuk undang undang',\n",
       " 'habis puas main trans studio bandung teman sepakat makan ayam kakek ayam nya enak gurih',\n",
       " 'bakso cuanki batagor ramai unjung buka jam puluh pagi jalan riau jalan a yani sisi kiri jalan jalan anggrek harga porsi rupiah belas nol datang ramai unjung',\n",
       " 'sgwr ribu delapan belas dampak positif hobi anakanak',\n",
       " 'lembang pandang indah udara sejuk tata resto bagus lengkap makan nikmat pilih menu agam minum lengkap lingkung cocok makan dua pasang bawa keluarga teman lapang parkir luas restoran konsep buka udara lembang sejuk nya',\n",
       " 'buka puasa minggu lepas supir cadang makan makan nya sedap harga patut nya luas cantik rekomendasi too others to dine in here to authentic sunda makan indonesia',\n",
       " 'haha suka banget tonton kakak uji nasional indonesia keluarga tomat',\n",
       " 'temanteman kunjung bandung mampir kopi anjis makan makan berat cilok rakyat teman teh sereh lekker',\n",
       " 'restoran keluarga makan malam bandung delapan orang nya ratus an benarbenar murah riah makan doubledouble makan nya enak suasana kafe tarik layan bagus tunjuk toilet restoran men to the pergi momen are ribut haha timpal',\n",
       " 'alhamdulillah jalan bugel kesal melulu sempit arah macet makan seharihari',\n",
       " 'respon sayang nya rem nya asli rom distrobitor',\n",
       " 'lokasi pandang alam natural indah suasana sejuk tenang nyamuk harga makan relatif mahal',\n",
       " 'partai demokrasi indonesia juang ridwan kamil menang baju merah',\n",
       " 'malu malu nih oknum be anggung',\n",
       " 'makan siang asyik nuansa bal musik nya musik sunda kadang musik khas bal ganti nya enak adem sayang pesan kopi banget nya kali kali iya iya jam kopi kopi panas kopi adek kah ciri khas kopi khas nya kopi dingin enak',\n",
       " 'steak bandung zaman setiabudi buka cabang riau riau parkir sulit sepe i setiabudi lokasi kuliner jalan riau porsi harga nya pas ukur steak zoom non smoking nya nyaman',\n",
       " 'delapan ratus puluh datang presiden ri rombong gate terminal sambut menteri hubung menteri badan usaha milik negara gubernur banten direktur jenderal perkeretaapian kemhub direktur utama direktur utama pt direktur utama railink',\n",
       " 'makan tradisional stabil iga garang asam nya java steak nya lupa ya coba hidang tutup kue enak lemper soes fla gulung enak enak makan',\n",
       " 'batagor enak kota bandung banding batagor coba bumbu kacang nya pas lidah batagor nya amis bau nya sila coba coba',\n",
       " 'aroma khas makan daun pisang ya ramai favourit bandung',\n",
       " 'keluarga jalan daerah lembang sengaja mampir makan resto suasana nya nyaman layan ramah ala puas makan saji standar sepe i makan restoran nya beda sambal stroberi enak bikin tagih makan petik lanjut',\n",
       " 'risma jatuh pilih nya gus ipul puti pilih gubernur jawa timur ribu delapan belas',\n",
       " 'alam seru makan alas piring alas daun nikmat makan sunda variatif enak tips nya bawa emosi kalap mes pilih makan sedia kalap makan macammacam pilih',\n",
       " 'makan nya enak suasana nyaman harga bilang restoran konsep kenal menu jepang nya enak',\n",
       " 'kampung daun makan satu konsep alam budaya daerah kompleks rumah luas puluh saung makan kapasitas kualitas makan enak nya suara riak air air terjun suasana nyaman makan',\n",
       " 'pesan nasi goreng kentang goreng nasi goreng nya suka kentang goreng nya enak banget presentasi nya bagus keluarga bilang kopi nya enak nya luas lihat pandang dusun bambu layan nya cepat be anya kali pesan harga nya mahal makan nya enak bayar pikir kali',\n",
       " 'makan sunda be ebaran kota bandung jatuh hati warung makan imas alunalun kota bandung suguh rumah makan sunda karakter warung nasi zaman ambil hidang proses order jumpa warung makan',\n",
       " 'hai tolong bantu input resi jne nomor resi pakai',\n",
       " 'foods menu cheeseburger nya oke banget chicken sayap pizza ulang juara rilis mig green tea yakult perfect satusatunya kurang pizza ulang pinggir nya',\n",
       " 'dusun bambu golong bandung nya banget almamater gampang cari pandang nya bagus makan enakenak beli nya pakai kupon',\n",
       " 'muas',\n",
       " 'suruh kaca main nya dasar oneng bicara ala betawi kampung',\n",
       " 'kafe saji sensasi makan gelap unik sih orang jarang tarik coba',\n",
       " 'sesuai nama nya mi awie kedai makan sedia menu mi olah daging babi mi pilih sepe i nasi goreng babi capjay goreng bakso pangsit coba menu mi babi casau spesial enak banget',\n",
       " 'mardani ali sera menang sosial media menang dunia nyata',\n",
       " 'kafe sekaramg inap boutique hotel travel bareng anakanak suka inap playground seru swimming pool high rope flying fox inap tiket gratis petik stroberi pesan suka ramai inap pilih kamar enak',\n",
       " 'selamat pagi kecewa berat indihome internet kocek bayar mahal kecewa langgan',\n",
       " 'pokok nya afdal lembang bandung mampir humas kampung daun',\n",
       " 'kentaki fried chicken bandung supermall fasilitas nya lengkap luas jarang temu dikfc keramahtamaan karyawan nya bagus',\n",
       " 'restoran sapu lidi milik uni sendiri serasa makan sawah dikelilingin kolam ikan nuansa sawah menu nya sepe i makan sunda menu favorit jamur bakar enak banget',\n",
       " 'enak mi abuabu mi black cocol sayap ayam nya mantap makan camil',\n",
       " 'negara satu republik indonesia bersyariah front bela islam revolusi akhlaq suara adil laugh sandung front bela islam ulama nya sandung obrol mesum berani pulang negara satu republik indonesia bersyariah bera i amal pancasila sungguh miris',\n",
       " 'bikin macet nih orang',\n",
       " 'singapura selidik jual p indonesia situs daring',\n",
       " 'pergi raya ulang kesan istri pilih menu makan variatif makan barat lokal sedia baju hangat dingin',\n",
       " 'pilih orang kecut sepe i prabowo pimpin negara',\n",
       " 'iklan baik jaring lamban',\n",
       " 'orang tiongkok masuk indonesia maju andal orang pribumi otak nya jongkok',\n",
       " 'cepat respon kirim kilat ramah berputarputar toko be emu toko juragan layan nya muas tangkap juragan',\n",
       " 'sok citra basi gaya wibawa seragam coklat top deh anies',\n",
       " 'temanteman suasana nya senang pandang bagus hawa dingin segar malam steak nya enak',\n",
       " 'debut bagus bikin suka tonight saranghajima menge i rasa winner abang bigbang nyanyi jiwa nya ikut nyanyi bagus banget cinta sifat sikap',\n",
       " 'lelah malam',\n",
       " 'marah',\n",
       " 'pilih susilo bambang yudhoyono eh pilih prabowo maksude pilih jokowi sepe i ai banteng moncong tepung grinningfacewithsmilingeyes',\n",
       " 'puas servis nya ramah harga nya banding layan pandang nya keren banget cocok acara kumpul bareng teman keluarga pokok nya rekomendasi sesal deh pokok nya layan feriyana super ramah pokok nya temanteman the delapan belas recommened',\n",
       " 'pe kali makan abuba steak jaka a beda nikmat abuba steak jaka a enak suasana restoran nya oke toilet nya tua baharu',\n",
       " 'xl jaring nya jelek banget ya',\n",
       " 'puas games mobile legend',\n",
       " 'rekan kerja sengaja coba makan siang sambal khas karmila cab buah batu bandung bilang cozzy nyaman lantai lantai dasar makan makan cepat saji penuh hiruk pikuk langgan ayam bakar rekomendasi sambal mangga kait harga bilang relative',\n",
       " 'kuah bakso nya asin enak jual keliling malang nya bagus jamu teman lokasi ramai bakso sedia capcay nasi goreng lainlain enak',\n",
       " 'warga jaka a malu kang oknum be anggung sweeping bobotoh',\n",
       " 'tenderloin steak nya juara mudah akses maki sembunyi nyaman tema zaman ramai layan',\n",
       " 'salah restoran cina masakan kepiting nya favorit juara pesan kepiting rebus babat toge cah kangkung',\n",
       " 'cebong tuduh curi uang sedekah puluh sila urus sih aris wahyudi ambil komisi puluh transaksi lacur kedok agama berani bulat sih aris wahyudi berani jonru',\n",
       " 'tarik pilih kepala daerah jawa barat ridwan kamil pasang tokoh dc universe',\n",
       " 'suasana kantor dewan pimpin cabang kabupaten bogor jelang pidato ribu delapan belas',\n",
       " 'djarum kuat rasa bagus nya pas bakar',\n",
       " 'bakmi tasik teman mampir coba bakmi bakso nya makan nya biasabiasa spesial',\n",
       " 'lokasi pandan wangi pusat kota bandung jangkau belas menit jalan asia afrika patok jalan nya jalan talaga bodas tinggal cari papan tunjuk pandan wangi jam siang orang banyak keluarga anakanak tunggu saji goreng ubi singkong lumayan enak',\n",
       " 'pe kali eatalia teman orang anak memsungkan memlilih makan anak sedia menu porsi anak mes cheese bacon deluxe pizza roti warna hitam menu pesan kecewa',\n",
       " 'lumayan sambal nya enak saji model pilih sih makan gurame kakap bawal kerang cumi udang macemmacem deh pesan ikan kembung',\n",
       " 'lokasi salah belanja rekreasi cihampelas wali bandung resto kecewa saji nya agam resto saji nya enak nikmat cocok santap pasang keluarga',\n",
       " 'zaman mbak mbak online shop aplikasi gojek gocar gosend ya allah bodoh jual hutan',\n",
       " 'restoran letak stategis jalan dago nya belah hotel holiday inn sesuai judul nya restoran sedia menu masakan aceh favorit mi aceh harga standar mahal lupa coba roti canai nya',\n",
       " 'bihun goreng nya enak minyak makan kandung babi halal es teh tawar porsi nya muas',\n",
       " 'lokasi tes telepon angkat email auto reply rekomendasi sadar something orang pas mampir kantor nya cerita held tes hotel ruang belah kondangan they told that remorse',\n",
       " 'sate kambing gulai kambing nya maknyus saji makannan nya cepat nya bersih',\n",
       " 'yue hotel mongkok hongkong juni booked bayar kamar hotel temu',\n",
       " 'poach salmon nya enak layan nya enak scenery nya mantap tank to amanda oi h it banget deh',\n",
       " 'orang cina makan legendaris banget nih orang cina makan enak enak parkir nya aujubila susah nya parkir seberang resto trotoar sabar sekalisekali sedih deh',\n",
       " 'makan restoran pizza enak teman nikmat paket sensasi delight harga nya jangkau kalang',\n",
       " 'hasil quick count pilih gubernur kalimantan timur ribu delapan belas isran had unggul',\n",
       " 'jerat buni yani undangundang informasi transaksi elektronik jelasjelas video asal youtube unggah perintah provinsi nya kena undangundang informasi transaksi elektronik perintah provinsi buni yani ya',\n",
       " 'paket gim benarbenar mantap megah makan jamin keren bravo']"
      ]
     },
     "execution_count": 38,
     "metadata": {},
     "output_type": "execute_result"
    }
   ],
   "source": [
    "data_prepro = df_new.Text_Preprocessing.tolist()\n",
    "data_prepro"
   ]
  },
  {
   "cell_type": "markdown",
   "metadata": {},
   "source": [
    "# Feature extraction : Bag of Word"
   ]
  },
  {
   "cell_type": "code",
   "execution_count": 39,
   "metadata": {},
   "outputs": [
    {
     "name": "stdout",
     "output_type": "stream",
     "text": [
      "Features Extraction selesai\n",
      "['abang' 'abuabu' 'abuba' 'acara' 'aceh' 'adek' 'adem' 'adil' 'aduh'\n",
      " 'afdal' 'afrika' 'agam' 'agama' 'ahli' 'ai' 'air' 'ajar' 'akhlaq' 'akses'\n",
      " 'aktif' 'ala' 'alam' 'alas' 'alhamdulillah' 'ali' 'allah' 'almamater'\n",
      " 'alunalun' 'amal' 'amanda' 'ambil' 'amis' 'an' 'anak' 'anakanak' 'andal'\n",
      " 'anggrek' 'anggung' 'angkat' 'anies' 'anjis' 'anya' 'aplikasi'\n",
      " 'appetiser' 'arah' 'are' 'aris' 'aroma' 'asal' 'asam' 'asia' 'asin'\n",
      " 'asli' 'asyik' 'atas' 'aujubila' 'authentic' 'auto' 'awie' 'ayam' 'babat'\n",
      " 'babi' 'baca' 'bacon' 'badan' 'bagus' 'bahagia' 'bahan' 'baharu' 'baik'\n",
      " 'baju' 'bakar' 'bakmi' 'bakso' 'bal' 'bambang' 'bambu' 'banding'\n",
      " 'bandung' 'banget' 'banten' 'banteng' 'bantu' 'banyak' 'barang' 'barat'\n",
      " 'bareng' 'basi' 'batagor' 'batu' 'bau' 'bawa' 'bawal' 'bayar' 'be'\n",
      " 'becus' 'beda' 'beef' 'bela' 'belah' 'belanja' 'belas' 'beli'\n",
      " 'benarbenar' 'bentuk' 'bera' 'berani' 'berat' 'berputarputar' 'bersih'\n",
      " 'bersyariah' 'betapa' 'betawi' 'biasabiasa' 'bicara' 'bigbang' 'bihun'\n",
      " 'bikin' 'bilang' 'bingung' 'bir' 'black' 'bletoka' 'bobotoh' 'bodas'\n",
      " 'bodoh' 'bogor' 'booked' 'boutique' 'bravo' 'buah' 'budaya' 'bugel'\n",
      " 'buka' 'bulat' 'bumbu' 'buni' 'buruk' 'cab' 'cabang' 'cadang' 'cah'\n",
      " 'camil' 'canai' 'cantik' 'capcay' 'capjay' 'cari' 'casau' 'cebong'\n",
      " 'cepat' 'cerita' 'cheese' 'cheeseburger' 'chicken' 'cihampelas' 'cilok'\n",
      " 'cina' 'cinta' 'ciri' 'citra' 'coba' 'cocok' 'cocol' 'coklat' 'count'\n",
      " 'cozzy' 'cuanki' 'cumi' 'curi' 'daerah' 'daging' 'dago' 'dampak' 'daring'\n",
      " 'dasar' 'datang' 'daun' 'dc' 'debut' 'deh' 'delapan' 'delight' 'deluxe'\n",
      " 'demokrasi' 'dewan' 'dikelilingin' 'dikfc' 'dine' 'dingin' 'direktur'\n",
      " 'distrobitor' 'diwlh' 'djarum' 'doubledouble' 'dua' 'duduk' 'dunia'\n",
      " 'dusun' 'eatalia' 'ebaran' 'eh' 'elektronik' 'email' 'emosi' 'emu' 'enak'\n",
      " 'enakenak' 'enggan' 'es' 'fasilitas' 'favorit' 'favourit' 'feriyana'\n",
      " 'fla' 'flying' 'food' 'foods' 'foto' 'fox' 'fried' 'front' 'games'\n",
      " 'gampang' 'ganti' 'gara' 'garang' 'gate' 'gaya' 'gelap' 'gim' 'gocar'\n",
      " 'gojek' 'golong' 'goreng' 'gosend' 'gratis' 'green' 'grilled'\n",
      " 'grinningfacewithsmilingeyes' 'gubernur' 'gulai' 'gulung' 'gurame'\n",
      " 'gurih' 'gus' 'habis' 'had' 'haha' 'hai' 'halal' 'hangat' 'harga' 'hasil'\n",
      " 'hati' 'hawa' 'held' 'here' 'hidang' 'hidup' 'high' 'hiruk' 'hitam'\n",
      " 'hobi' 'holiday' 'hongkong' 'hotel' 'hubung' 'hujjah' 'humas' 'hutan'\n",
      " 'iga' 'ikan' 'iklan' 'ikut' 'ikutikut' 'imas' 'in' 'inaktiv' 'inap'\n",
      " 'indah' 'indihome' 'indonesia' 'indosat' 'informasi' 'inn' 'input'\n",
      " 'internet' 'ipul' 'iri' 'isi' 'islam' 'isran' 'istri' 'it' 'iya' 'jaka'\n",
      " 'jalan' 'jam' 'jamin' 'jamu' 'jamur' 'jangkau' 'jarang' 'jaring' 'jatuh'\n",
      " 'java' 'jawa' 'jelang' 'jelasjelas' 'jelek' 'jenderal' 'jepang' 'jerat'\n",
      " 'jiwa' 'jne' 'jokowi' 'jongkok' 'jonru' 'jual' 'juang' 'juara' 'judul'\n",
      " 'jumpa' 'juni' 'juragan' 'kabar' 'kabupaten' 'kaca' 'kacang' 'kadang'\n",
      " 'kafe' 'kah' 'kait' 'kakak' 'kakap' 'kakek' 'kalah' 'kalang' 'kalap'\n",
      " 'kali' 'kalimantan' 'kamar' 'kambing' 'kamil' 'kampung' 'kandung' 'kang'\n",
      " 'kangkung' 'kantor' 'kapasitas' 'karakter' 'karmila' 'karyawan' 'kasih'\n",
      " 'kasir' 'kayak' 'kecewa' 'kecut' 'kedai' 'kedok' 'keliling' 'keluarga'\n",
      " 'kembung' 'kemhub' 'kena' 'kenal' 'kencang' 'kentaki' 'kentang' 'kepala'\n",
      " 'kepiting' 'keramahtamaan' 'kerang' 'keren' 'kerja' 'kesal' 'kesan'\n",
      " 'khas' 'khusus' 'kilat' 'kiri' 'kirim' 'kocek' 'kolam' 'komisi'\n",
      " 'kompleks' 'kondangan' 'konsep' 'kopi' 'kota' 'kredit' 'kretivitas'\n",
      " 'kuah' 'kualitas' 'kuat' 'kue' 'kuliah' 'kuliner' 'kumpul' 'kuning'\n",
      " 'kunjung' 'kupon' 'kurang' 'label' 'lacur' 'lainlain' 'lamban' 'langgan'\n",
      " 'lanjut' 'lantai' 'lapang' 'laugh' 'layan' 'legend' 'legendaris' 'lekker'\n",
      " 'lelah' 'lemak' 'lembang' 'lemper' 'lengkap' 'lepas' 'letak' 'lewat'\n",
      " 'lidah' 'lidi' 'lihat' 'lingkung' 'lokal' 'lokasi' 'luas' 'lumayan'\n",
      " 'lupa' 'lurus' 'lychee' 'maaf' 'macammacam' 'macemmacem' 'macet' 'mahal'\n",
      " 'mahasiswa' 'main' 'maju' 'makan' 'makannan' 'maki' 'maknyus' 'maksude'\n",
      " 'malam' 'malang' 'malu' 'mampir' 'mangga' 'mantap' 'marah' 'marahmarah'\n",
      " 'mardani' 'masak' 'masakan' 'masuk' 'mbak' 'media' 'megah' 'melulu'\n",
      " 'memlilih' 'memsungkan' 'men' 'menang' 'menge' 'menit' 'menteri' 'menu'\n",
      " 'menumenu' 'merah' 'mes' 'mesum' 'mi' 'mig' 'milik' 'minggu' 'minum'\n",
      " 'minyak' 'miris' 'mmbri' 'mobile' 'model' 'moga' 'mohon' 'mojito' 'momen'\n",
      " 'moncong' 'mongkok' 'muas' 'mudah' 'muncul' 'murah' 'musik' 'nama'\n",
      " 'nasehat' 'nasi' 'nasional' 'natural' 'negara' 'nih' 'nikmat' 'nol'\n",
      " 'nomor' 'non' 'nuansa' 'nya' 'nyaman' 'nyamuk' 'nyanyi' 'nyata' 'obrol'\n",
      " 'oi' 'oke' 'oknum' 'olah' 'oneng' 'online' 'orang' 'order' 'otak'\n",
      " 'others' 'pabrik' 'padu' 'paella' 'pagi' 'pakai' 'paket' 'panas'\n",
      " 'pancasila' 'pandan' 'pandang' 'pangsit' 'papan' 'parkir' 'partai' 'pas'\n",
      " 'pasang' 'pasca' 'pasu' 'patok' 'patut' 'pe' 'pecahpecah' 'pegawai'\n",
      " 'penuh' 'perfect' 'pergi' 'perhati' 'perintah' 'perkeretaapian' 'pesan'\n",
      " 'petik' 'pidato' 'pikir' 'pikuk' 'pilih' 'pimpin' 'pinda' 'pinggir'\n",
      " 'piring' 'pisang' 'pizza' 'playground' 'poach' 'pokok' 'politik' 'pool'\n",
      " 'porsi' 'positif' 'potong' 'prabowo' 'presentasi' 'presiden' 'pribumi'\n",
      " 'proses' 'provinsi' 'pt' 'puas' 'puasa' 'pulang' 'pulsa' 'puluh' 'pusat'\n",
      " 'puti' 'putih' 'quick' 'railink' 'rakyat' 'ramah' 'ramai' 'rasa' 'ratus'\n",
      " 'raya' 'rebus' 'recommened' 'rekan' 'rekanrekan' 'rekomendasi' 'rekreasi'\n",
      " 'relatif' 'relative' 'rem' 'remorse' 'reply' 'republik' 'resi' 'respon'\n",
      " 'resto' 'restoran' 'revolusi' 'ri' 'riah' 'riak' 'riau' 'ribet' 'ribu'\n",
      " 'ribut' 'ridwan' 'rilis' 'risma' 'rm' 'rom' 'rombong' 'rope' 'roti'\n",
      " 'ruang' 'rugi' 'rumah' 'rupiah' 'sabar' 'sadar' 'saji' 'salah' 'salmon'\n",
      " 'sambal' 'sambut' 'sandi' 'sandung' 'santap' 'sapu' 'saran'\n",
      " 'saranghajima' 'sari' 'sate' 'satu' 'satusatunya' 'saung' 'sawah'\n",
      " 'sayang' 'sayap' 'scenery' 'seberang' 'sedap' 'sedekah' 'sedia' 'sedih'\n",
      " 'segar' 'seharihari' 'sejuk' 'sekalisekali' 'sekaramg' 'selamat' 'selera'\n",
      " 'selesai' 'selidik' 'sembunyi' 'sempit' 'senang' 'sendiri' 'sengaja'\n",
      " 'sensasi' 'sepakat' 'sepe' 'sera' 'seragam' 'serasa' 'sereh' 'seru'\n",
      " 'servis' 'sesal' 'sesuai' 'setiabudhi' 'setiabudi' 'sgwr' 'shop' 'siang'\n",
      " 'sifat' 'sih' 'sikap' 'sila' 'simcard' 'singapura' 'singkong' 'sirloin'\n",
      " 'sisi' 'situs' 'smoking' 'soes' 'sofa' 'sok' 'sombong' 'something'\n",
      " 'sosial' 'spagheti' 'spesial' 'stabil' 'stall' 'standar' 'stategis'\n",
      " 'steak' 'strategis' 'stroberi' 'studio' 'suara' 'suasana' 'suguh' 'suka'\n",
      " 'sulit' 'sumatra' 'sunda' 'sungguh' 'super' 'supermall' 'supir' 'suruh'\n",
      " 'susah' 'susilo' 'sweeping' 'swimming' 'syukur' 'tagih' 'talaga' 'tambah'\n",
      " 'tangkap' 'tank' 'tarik' 'tasik' 'tata' 'tawar' 'tea' 'tegal' 'teh'\n",
      " 'telat' 'telepon' 'tema' 'teman' 'temanteman' 'tempel' 'temu' 'tenang'\n",
      " 'tenderloin' 'tepung' 'terjun' 'terminal' 'tes' 'tetap' 'that' 'the'\n",
      " 'they' 'tiket' 'timpal' 'timur' 'tinggal' 'tiongkok' 'tips' 'to' 'toge'\n",
      " 'toilet' 'toko' 'tokoh' 'told' 'tolong' 'tomat' 'tonight' 'tonton' 'too'\n",
      " 'top' 'tradisional' 'trans' 'transaksi' 'travel' 'trotoar' 'tua' 'tuduh'\n",
      " 'tuju' 'tulis' 'tunggu' 'tunjuk' 'tutup' 'uang' 'ubi' 'udang' 'udara'\n",
      " 'uji' 'ukur' 'ulama' 'ulang' 'unbog' 'undang' 'undangundang' 'unggah'\n",
      " 'unggul' 'uni' 'unik' 'universe' 'unjung' 'untung' 'urus' 'usah' 'usaha'\n",
      " 'utama' 'variatif' 'video' 'wahyudi' 'wali' 'wangi' 'warga' 'warna'\n",
      " 'warung' 'wibawa' 'wifi' 'winner' 'xl' 'ya' 'yakult' 'yani' 'youtube'\n",
      " 'yudhoyono' 'yue' 'zaman' 'zoom']\n",
      "[[0 0 0 ... 0 0 0]\n",
      " [0 0 0 ... 0 0 0]\n",
      " [0 0 0 ... 0 0 0]\n",
      " ...\n",
      " [0 0 0 ... 0 0 0]\n",
      " [0 0 0 ... 0 0 0]\n",
      " [0 0 0 ... 0 0 0]]\n"
     ]
    }
   ],
   "source": [
    "from sklearn.feature_extraction.text import CountVectorizer\n",
    "\n",
    "# Proses FeatureExtraction\n",
    "count_vect = CountVectorizer()\n",
    "count_vect.fit(data_prepro) # fit untuk mengambil informasi yang kita punya\n",
    "\n",
    "X= count_vect.transform(data_prepro) # transfor untuk mengubah informasi yang kita punya\n",
    "print('Features Extraction selesai')\n",
    "print(count_vect.get_feature_names_out())\n",
    "print(X.toarray())"
   ]
  },
  {
   "cell_type": "markdown",
   "metadata": {},
   "source": [
    "# Feature extraction : TF-IDF"
   ]
  },
  {
   "cell_type": "code",
   "execution_count": 40,
   "metadata": {},
   "outputs": [
    {
     "name": "stdout",
     "output_type": "stream",
     "text": [
      "Features Exctraction Berhasil\n",
      "[[0. 0. 0. ... 0. 0. 0.]\n",
      " [0. 0. 0. ... 0. 0. 0.]\n",
      " [0. 0. 0. ... 0. 0. 0.]\n",
      " ...\n",
      " [0. 0. 0. ... 0. 0. 0.]\n",
      " [0. 0. 0. ... 0. 0. 0.]\n",
      " [0. 0. 0. ... 0. 0. 0.]]\n"
     ]
    }
   ],
   "source": [
    "from sklearn.feature_extraction.text import TfidfVectorizer\n",
    "\n",
    "# Proses Feature Extraction\n",
    "tfidf_vect = TfidfVectorizer()\n",
    "tfidf_vect.fit(data_prepro)\n",
    "\n",
    "X=  tfidf_vect.fit_transform(data_prepro)\n",
    "print('Features Exctraction Berhasil')\n",
    "\n",
    "print(X.toarray())"
   ]
  },
  {
   "cell_type": "markdown",
   "metadata": {},
   "source": [
    "# Splitting Dataset"
   ]
  },
  {
   "cell_type": "code",
   "execution_count": null,
   "metadata": {},
   "outputs": [],
   "source": [
    "# # Menggunakan kolom 'Text_Cleansing' sebagai fitur dan kolom 'negative', 'neutral', 'positive' sebagai label\n",
    "# X_train = train['Text_Cleansing'].astype(str).values  # Pastikan semua nilai adalah string\n",
    "# y_train = train[['negative', 'neutral', 'positive']].values"
   ]
  },
  {
   "cell_type": "code",
   "execution_count": 19,
   "metadata": {},
   "outputs": [
    {
     "name": "stdout",
     "output_type": "stream",
     "text": [
      "(11000, 2) (11000,)\n"
     ]
    }
   ],
   "source": [
    "# X_train = data_df.drop(['Text',\t'Text_Cleansing'], axis=1) # Data\n",
    "# y_train = data_df[\"Sentiment\"] #label\n",
    "# print(X_train.shape, y_train.shape)"
   ]
  },
  {
   "cell_type": "code",
   "execution_count": 22,
   "metadata": {},
   "outputs": [
    {
     "name": "stdout",
     "output_type": "stream",
     "text": [
      "(8250, 2) (2750, 2) (8250,) (2750,)\n"
     ]
    }
   ],
   "source": [
    "# from sklearn.model_selection import train_test_split\n",
    "# X_tr, X_tt, y_tr, y_tt = train_test_split(X_train, y_train, test_size=0.25, random_state=123)\n",
    "\n",
    "# print(X_tr.shape, X_tt.shape, y_tr.shape, y_tt.shape)"
   ]
  },
  {
   "cell_type": "code",
   "execution_count": 23,
   "metadata": {},
   "outputs": [
    {
     "data": {
      "text/html": [
       "<div>\n",
       "<style scoped>\n",
       "    .dataframe tbody tr th:only-of-type {\n",
       "        vertical-align: middle;\n",
       "    }\n",
       "\n",
       "    .dataframe tbody tr th {\n",
       "        vertical-align: top;\n",
       "    }\n",
       "\n",
       "    .dataframe thead th {\n",
       "        text-align: right;\n",
       "    }\n",
       "</style>\n",
       "<table border=\"1\" class=\"dataframe\">\n",
       "  <thead>\n",
       "    <tr style=\"text-align: right;\">\n",
       "      <th></th>\n",
       "      <th>Text_Preprocessing</th>\n",
       "      <th>Sentiment</th>\n",
       "    </tr>\n",
       "  </thead>\n",
       "  <tbody>\n",
       "    <tr>\n",
       "      <th>6293</th>\n",
       "      <td>elektabilitas khofifah emil ratus enam puluh s...</td>\n",
       "      <td>neutral</td>\n",
       "    </tr>\n",
       "    <tr>\n",
       "      <th>1425</th>\n",
       "      <td>prepare ijab jabat kanwil bank rakyat indonesi...</td>\n",
       "      <td>neutral</td>\n",
       "    </tr>\n",
       "    <tr>\n",
       "      <th>3216</th>\n",
       "      <td>butuh ai kursi partai demokrasi indonesia juan...</td>\n",
       "      <td>positive</td>\n",
       "    </tr>\n",
       "    <tr>\n",
       "      <th>8741</th>\n",
       "      <td>baru nomor telepon genggam baru layan langgan ...</td>\n",
       "      <td>negative</td>\n",
       "    </tr>\n",
       "    <tr>\n",
       "      <th>2901</th>\n",
       "      <td>bingung makan malam saran lokasi jalan dago be...</td>\n",
       "      <td>positive</td>\n",
       "    </tr>\n",
       "  </tbody>\n",
       "</table>\n",
       "</div>"
      ],
      "text/plain": [
       "                                     Text_Preprocessing Sentiment\n",
       "6293  elektabilitas khofifah emil ratus enam puluh s...   neutral\n",
       "1425  prepare ijab jabat kanwil bank rakyat indonesi...   neutral\n",
       "3216  butuh ai kursi partai demokrasi indonesia juan...  positive\n",
       "8741  baru nomor telepon genggam baru layan langgan ...  negative\n",
       "2901  bingung makan malam saran lokasi jalan dago be...  positive"
      ]
     },
     "execution_count": 23,
     "metadata": {},
     "output_type": "execute_result"
    }
   ],
   "source": [
    "# X_tr.head()"
   ]
  },
  {
   "cell_type": "code",
   "execution_count": 24,
   "metadata": {},
   "outputs": [
    {
     "data": {
      "text/plain": [
       "6293     neutral\n",
       "1425     neutral\n",
       "3216    positive\n",
       "8741    negative\n",
       "2901    positive\n",
       "          ...   \n",
       "9785    negative\n",
       "7763    positive\n",
       "5218    positive\n",
       "1346    positive\n",
       "3582    positive\n",
       "Name: Sentiment, Length: 8250, dtype: object"
      ]
     },
     "execution_count": 24,
     "metadata": {},
     "output_type": "execute_result"
    }
   ],
   "source": [
    "# y_tr"
   ]
  },
  {
   "cell_type": "code",
   "execution_count": 44,
   "metadata": {},
   "outputs": [
    {
     "data": {
      "text/plain": [
       "(11000, 405)"
      ]
     },
     "execution_count": 44,
     "metadata": {},
     "output_type": "execute_result"
    }
   ],
   "source": [
    "X = data_df['Text_Preprocessing'].apply(words_to_sentence) \n",
    "max_features = 5000\n",
    "\n",
    "# Tokenize text with specific maximum number of words to keep, based on word frequency\n",
    "tokenizer = Tokenizer(num_words=max_features, split=' ')\n",
    "tokenizer.fit_on_texts(X.values)\n",
    "X = tokenizer.texts_to_sequences(X.values)\n",
    "X = pad_sequences(X)\n",
    "X.shape"
   ]
  },
  {
   "cell_type": "code",
   "execution_count": null,
   "metadata": {},
   "outputs": [],
   "source": []
  },
  {
   "cell_type": "code",
   "execution_count": null,
   "metadata": {},
   "outputs": [],
   "source": []
  },
  {
   "cell_type": "code",
   "execution_count": null,
   "metadata": {},
   "outputs": [],
   "source": []
  },
  {
   "cell_type": "code",
   "execution_count": null,
   "metadata": {},
   "outputs": [],
   "source": []
  },
  {
   "cell_type": "code",
   "execution_count": null,
   "metadata": {},
   "outputs": [],
   "source": []
  },
  {
   "cell_type": "code",
   "execution_count": null,
   "metadata": {},
   "outputs": [],
   "source": []
  },
  {
   "cell_type": "code",
   "execution_count": null,
   "metadata": {},
   "outputs": [],
   "source": []
  },
  {
   "cell_type": "code",
   "execution_count": null,
   "metadata": {},
   "outputs": [],
   "source": []
  },
  {
   "cell_type": "code",
   "execution_count": null,
   "metadata": {},
   "outputs": [],
   "source": []
  },
  {
   "cell_type": "code",
   "execution_count": null,
   "metadata": {},
   "outputs": [],
   "source": []
  },
  {
   "cell_type": "code",
   "execution_count": null,
   "metadata": {},
   "outputs": [],
   "source": []
  },
  {
   "cell_type": "code",
   "execution_count": null,
   "metadata": {},
   "outputs": [],
   "source": []
  },
  {
   "cell_type": "code",
   "execution_count": null,
   "metadata": {},
   "outputs": [],
   "source": []
  },
  {
   "cell_type": "code",
   "execution_count": null,
   "metadata": {},
   "outputs": [],
   "source": []
  },
  {
   "cell_type": "code",
   "execution_count": null,
   "metadata": {},
   "outputs": [],
   "source": []
  },
  {
   "cell_type": "code",
   "execution_count": null,
   "metadata": {},
   "outputs": [],
   "source": []
  },
  {
   "cell_type": "markdown",
   "metadata": {},
   "source": [
    "# Training"
   ]
  },
  {
   "cell_type": "code",
   "execution_count": 41,
   "metadata": {},
   "outputs": [
    {
     "name": "stdout",
     "output_type": "stream",
     "text": [
      "(75, 836) (26, 836) (75,) (26,)\n",
      "[[0. 0. 0. ... 0. 0. 0.]\n",
      " [0. 0. 0. ... 0. 0. 0.]\n",
      " [0. 0. 0. ... 0. 0. 0.]\n",
      " ...\n",
      " [0. 0. 0. ... 0. 0. 0.]\n",
      " [0. 0. 0. ... 0. 0. 0.]\n",
      " [0. 0. 0. ... 0. 0. 0.]]\n"
     ]
    }
   ],
   "source": [
    "from sklearn.model_selection import train_test_split\n",
    "X_train, X_test, y_train, y_test = train_test_split(X, df_label, test_size=0.25, random_state=123)\n",
    "\n",
    "print(X_train.shape, X_test.shape, y_train.shape, y_test.shape)\n",
    "print(X_train.toarray())"
   ]
  },
  {
   "cell_type": "markdown",
   "metadata": {},
   "source": [
    "# Modelling dengan MLPClassifier"
   ]
  },
  {
   "cell_type": "code",
   "execution_count": 42,
   "metadata": {},
   "outputs": [
    {
     "name": "stderr",
     "output_type": "stream",
     "text": [
      "c:\\Users\\Admin\\anaconda3\\Lib\\site-packages\\sklearn\\neural_network\\_multilayer_perceptron.py:691: ConvergenceWarning: Stochastic Optimizer: Maximum iterations (200) reached and the optimization hasn't converged yet.\n",
      "  warnings.warn(\n"
     ]
    },
    {
     "data": {
      "text/html": [
       "<style>#sk-container-id-3 {color: black;}#sk-container-id-3 pre{padding: 0;}#sk-container-id-3 div.sk-toggleable {background-color: white;}#sk-container-id-3 label.sk-toggleable__label {cursor: pointer;display: block;width: 100%;margin-bottom: 0;padding: 0.3em;box-sizing: border-box;text-align: center;}#sk-container-id-3 label.sk-toggleable__label-arrow:before {content: \"▸\";float: left;margin-right: 0.25em;color: #696969;}#sk-container-id-3 label.sk-toggleable__label-arrow:hover:before {color: black;}#sk-container-id-3 div.sk-estimator:hover label.sk-toggleable__label-arrow:before {color: black;}#sk-container-id-3 div.sk-toggleable__content {max-height: 0;max-width: 0;overflow: hidden;text-align: left;background-color: #f0f8ff;}#sk-container-id-3 div.sk-toggleable__content pre {margin: 0.2em;color: black;border-radius: 0.25em;background-color: #f0f8ff;}#sk-container-id-3 input.sk-toggleable__control:checked~div.sk-toggleable__content {max-height: 200px;max-width: 100%;overflow: auto;}#sk-container-id-3 input.sk-toggleable__control:checked~label.sk-toggleable__label-arrow:before {content: \"▾\";}#sk-container-id-3 div.sk-estimator input.sk-toggleable__control:checked~label.sk-toggleable__label {background-color: #d4ebff;}#sk-container-id-3 div.sk-label input.sk-toggleable__control:checked~label.sk-toggleable__label {background-color: #d4ebff;}#sk-container-id-3 input.sk-hidden--visually {border: 0;clip: rect(1px 1px 1px 1px);clip: rect(1px, 1px, 1px, 1px);height: 1px;margin: -1px;overflow: hidden;padding: 0;position: absolute;width: 1px;}#sk-container-id-3 div.sk-estimator {font-family: monospace;background-color: #f0f8ff;border: 1px dotted black;border-radius: 0.25em;box-sizing: border-box;margin-bottom: 0.5em;}#sk-container-id-3 div.sk-estimator:hover {background-color: #d4ebff;}#sk-container-id-3 div.sk-parallel-item::after {content: \"\";width: 100%;border-bottom: 1px solid gray;flex-grow: 1;}#sk-container-id-3 div.sk-label:hover label.sk-toggleable__label {background-color: #d4ebff;}#sk-container-id-3 div.sk-serial::before {content: \"\";position: absolute;border-left: 1px solid gray;box-sizing: border-box;top: 0;bottom: 0;left: 50%;z-index: 0;}#sk-container-id-3 div.sk-serial {display: flex;flex-direction: column;align-items: center;background-color: white;padding-right: 0.2em;padding-left: 0.2em;position: relative;}#sk-container-id-3 div.sk-item {position: relative;z-index: 1;}#sk-container-id-3 div.sk-parallel {display: flex;align-items: stretch;justify-content: center;background-color: white;position: relative;}#sk-container-id-3 div.sk-item::before, #sk-container-id-3 div.sk-parallel-item::before {content: \"\";position: absolute;border-left: 1px solid gray;box-sizing: border-box;top: 0;bottom: 0;left: 50%;z-index: -1;}#sk-container-id-3 div.sk-parallel-item {display: flex;flex-direction: column;z-index: 1;position: relative;background-color: white;}#sk-container-id-3 div.sk-parallel-item:first-child::after {align-self: flex-end;width: 50%;}#sk-container-id-3 div.sk-parallel-item:last-child::after {align-self: flex-start;width: 50%;}#sk-container-id-3 div.sk-parallel-item:only-child::after {width: 0;}#sk-container-id-3 div.sk-dashed-wrapped {border: 1px dashed gray;margin: 0 0.4em 0.5em 0.4em;box-sizing: border-box;padding-bottom: 0.4em;background-color: white;}#sk-container-id-3 div.sk-label label {font-family: monospace;font-weight: bold;display: inline-block;line-height: 1.2em;}#sk-container-id-3 div.sk-label-container {text-align: center;}#sk-container-id-3 div.sk-container {/* jupyter's `normalize.less` sets `[hidden] { display: none; }` but bootstrap.min.css set `[hidden] { display: none !important; }` so we also need the `!important` here to be able to override the default hidden behavior on the sphinx rendered scikit-learn.org. See: https://github.com/scikit-learn/scikit-learn/issues/21755 */display: inline-block !important;position: relative;}#sk-container-id-3 div.sk-text-repr-fallback {display: none;}</style><div id=\"sk-container-id-3\" class=\"sk-top-container\"><div class=\"sk-text-repr-fallback\"><pre>MLPClassifier()</pre><b>In a Jupyter environment, please rerun this cell to show the HTML representation or trust the notebook. <br />On GitHub, the HTML representation is unable to render, please try loading this page with nbviewer.org.</b></div><div class=\"sk-container\" hidden><div class=\"sk-item\"><div class=\"sk-estimator sk-toggleable\"><input class=\"sk-toggleable__control sk-hidden--visually\" id=\"sk-estimator-id-3\" type=\"checkbox\" checked><label for=\"sk-estimator-id-3\" class=\"sk-toggleable__label sk-toggleable__label-arrow\">MLPClassifier</label><div class=\"sk-toggleable__content\"><pre>MLPClassifier()</pre></div></div></div></div></div>"
      ],
      "text/plain": [
       "MLPClassifier()"
      ]
     },
     "execution_count": 42,
     "metadata": {},
     "output_type": "execute_result"
    }
   ],
   "source": [
    "from sklearn.neural_network import MLPClassifier\n",
    "\n",
    "model = MLPClassifier()\n",
    "model.fit(X_train, y_train)"
   ]
  },
  {
   "cell_type": "markdown",
   "metadata": {},
   "source": [
    "# Evaluasi"
   ]
  },
  {
   "cell_type": "code",
   "execution_count": 43,
   "metadata": {},
   "outputs": [
    {
     "name": "stdout",
     "output_type": "stream",
     "text": [
      "Hasil Testing Menggunakan classification report\n",
      "              precision    recall  f1-score   support\n",
      "\n",
      "    negative       0.60      1.00      0.75         6\n",
      "     neutral       0.00      0.00      0.00         3\n",
      "    positive       1.00      0.88      0.94        17\n",
      "\n",
      "    accuracy                           0.81        26\n",
      "   macro avg       0.53      0.63      0.56        26\n",
      "weighted avg       0.79      0.81      0.79        26\n",
      "\n",
      "Var tes : Hasil Prediksi\n",
      "Var y_test : Variable asli\n"
     ]
    }
   ],
   "source": [
    "from sklearn.metrics import classification_report\n",
    "\n",
    "test = model.predict(X_test)\n",
    "print('Hasil Testing Menggunakan classification report')\n",
    "print(classification_report(y_test,test))\n",
    "print('Var tes : Hasil Prediksi')\n",
    "print('Var y_test : Variable asli')"
   ]
  },
  {
   "cell_type": "code",
   "execution_count": null,
   "metadata": {},
   "outputs": [],
   "source": [
    "# from tensorflow.keras.preprocessing.text import Tokenizer\n",
    "# from tensorflow.keras.preprocessing.sequence import pad_sequences\n",
    "\n",
    "# # Mengatur parameter untuk tokenisasi dan padding\n",
    "# max_words = 10000  # Jumlah maksimal kata yang dipertimbangkan dalam tokenisasi\n",
    "# max_len = 100  # Panjang maksimal dari sequence\n",
    "\n",
    "# # Tokenisasi teks\n",
    "# tokenizer = Tokenizer(num_words=max_words)\n",
    "# tokenizer.fit_on_texts(X_tr)\n",
    "# X_tr_sequences = tokenizer.texts_to_sequences(X_tr)\n",
    "# X_tt_sequences = tokenizer.texts_to_sequences(X_tt)\n",
    "\n",
    "# # Padding sequence agar memiliki panjang yang sama\n",
    "# X_tr_padded = pad_sequences(X_tr_sequences, maxlen=max_len)\n",
    "# X_tt_padded = pad_sequences(X_tt_sequences, maxlen=max_len)\n"
   ]
  },
  {
   "cell_type": "code",
   "execution_count": null,
   "metadata": {},
   "outputs": [],
   "source": [
    "# import tensorflow as tf\n",
    "# from tensorflow.keras.models import Sequential\n",
    "# from tensorflow.keras.layers import Embedding, LSTM, Dense, Dropout\n",
    "\n",
    "# # Membangun model LSTM\n",
    "# model = Sequential()\n",
    "# model.add(Embedding(input_dim=max_words, output_dim=128, input_length=max_len))\n",
    "# model.add(LSTM(128, return_sequences=True))\n",
    "# model.add(Dropout(0.2))\n",
    "# model.add(LSTM(64))\n",
    "# model.add(Dropout(0.2))\n",
    "# model.add(Dense(3, activation='softmax'))  # 3 output units for negative, neutral, positive\n",
    "\n",
    "# # Kompilasi model\n",
    "# model.compile(optimizer='adam', loss='categorical_crossentropy', metrics=['accuracy'])\n",
    "\n",
    "# # Melihat ringkasan model\n",
    "# model.summary()\n",
    "\n",
    "# # Melatih model\n",
    "# history = model.fit(X_tr_padded, y_tr, epochs=10, batch_size=32, validation_split=0.2)\n"
   ]
  },
  {
   "cell_type": "code",
   "execution_count": null,
   "metadata": {},
   "outputs": [],
   "source": [
    "# import matplotlib.pyplot as plt\n",
    "\n",
    "# # Plotting Loss\n",
    "# plt.figure(figsize=(12, 4))\n",
    "\n",
    "# plt.subplot(1, 2, 1)\n",
    "# plt.plot(history.history['loss'], label='Training Loss')\n",
    "# plt.plot(history.history['val_loss'], label='Validation Loss')\n",
    "# plt.title('Training and Validation Loss')\n",
    "# plt.xlabel('Epochs')\n",
    "# plt.ylabel('Loss')\n",
    "# plt.legend()\n",
    "\n",
    "# # Plotting Accuracy\n",
    "# plt.subplot(1, 2, 2)\n",
    "# plt.plot(history.history['accuracy'], label='Training Accuracy')\n",
    "# plt.plot(history.history['val_accuracy'], label='Validation Accuracy')\n",
    "# plt.title('Training and Validation Accuracy')\n",
    "# plt.xlabel('Epochs')\n",
    "# plt.ylabel('Accuracy')\n",
    "# plt.legend()\n",
    "\n",
    "# plt.tight_layout()\n",
    "# plt.show()\n"
   ]
  }
 ],
 "metadata": {
  "kernelspec": {
   "display_name": "base",
   "language": "python",
   "name": "python3"
  },
  "language_info": {
   "codemirror_mode": {
    "name": "ipython",
    "version": 3
   },
   "file_extension": ".py",
   "mimetype": "text/x-python",
   "name": "python",
   "nbconvert_exporter": "python",
   "pygments_lexer": "ipython3",
   "version": "3.11.5"
  }
 },
 "nbformat": 4,
 "nbformat_minor": 2
}
